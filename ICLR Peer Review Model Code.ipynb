{
 "cells": [
  {
   "cell_type": "markdown",
   "id": "d19dcecb",
   "metadata": {},
   "source": [
    "# <center>ICLR Peer Review in Multiclass Classification Model<br>(Linear SVC & Logistic Regression)<center>"
   ]
  },
  {
   "cell_type": "markdown",
   "id": "e75f116c",
   "metadata": {},
   "source": [
    "### <center>Chan Soraneat Chanthan<br>COMP-1804 Applied Machine Learning<br>001194686<center>"
   ]
  },
  {
   "cell_type": "markdown",
   "id": "6167a420",
   "metadata": {},
   "source": [
    "### Below represent four main parts:\n",
    "1. Exclusion Dataframe\n",
    "2. Multiclass Classification to Implement Acceptance Status\n",
    "3. Multiclass Classification to Implement Review Score\n",
    "4. Multiclass Classification to Implement Review Score (Another Implement Way)"
   ] 
  },
  {
   "cell_type": "markdown",
   "id": "c87f25bc",
   "metadata": {},
   "source": [
    "# 1. Exclusion Dataframe"
   ]
  },
  {
   "cell_type": "markdown",
   "id": "f0db84d6",
   "metadata": {},
   "source": [
    "## Loading Dataset"
   ]
  },
  {
   "cell_type": "code",
   "execution_count": 1,
   "id": "400412a8",
   "metadata": {},
   "outputs": [],
   "source": [
    "# Import all the needed packages \n",
    "import numpy as np\n",
    "import pandas as pd\n",
    "import matplotlib.pyplot as plt\n",
    "import seaborn as sns\n",
    "import en_core_web_sm\n",
    "import string\n",
    "\n",
    "# Package needed\n",
    "from spacy.lang.en.stop_words import STOP_WORDS\n",
    "from sklearn.model_selection import train_test_split\n",
    "from sklearn.feature_extraction.text import TfidfVectorizer\n",
    "from sklearn.pipeline import Pipeline\n",
    "from sklearn.metrics import accuracy_score, classification_report, confusion_matrix\n",
    "from sklearn.svm import LinearSVC\n",
    "from sklearn.linear_model import LogisticRegression"
   ]
  },
  {
   "cell_type": "code",
   "execution_count": 2,
   "id": "43855338",
   "metadata": {},
   "outputs": [
    {
     "data": {
      "text/html": [
       "<div>\n",
       "<style scoped>\n",
       "    .dataframe tbody tr th:only-of-type {\n",
       "        vertical-align: middle;\n",
       "    }\n",
       "\n",
       "    .dataframe tbody tr th {\n",
       "        vertical-align: top;\n",
       "    }\n",
       "\n",
       "    .dataframe thead th {\n",
       "        text-align: right;\n",
       "    }\n",
       "</style>\n",
       "<table border=\"1\" class=\"dataframe\">\n",
       "  <thead>\n",
       "    <tr style=\"text-align: right;\">\n",
       "      <th></th>\n",
       "      <th>review_id</th>\n",
       "      <th>text</th>\n",
       "      <th>confidence_score</th>\n",
       "      <th>review_score</th>\n",
       "      <th>acceptance_status</th>\n",
       "    </tr>\n",
       "  </thead>\n",
       "  <tbody>\n",
       "    <tr>\n",
       "      <th>0</th>\n",
       "      <td>iclr_review_0000</td>\n",
       "      <td>Predicting Medications from Diagnostic Codes w...</td>\n",
       "      <td>3.0</td>\n",
       "      <td>6.0</td>\n",
       "      <td>Accept</td>\n",
       "    </tr>\n",
       "    <tr>\n",
       "      <th>1</th>\n",
       "      <td>iclr_review_0001</td>\n",
       "      <td>Unrestricted Adversarial Examples via Semantic...</td>\n",
       "      <td>NaN</td>\n",
       "      <td>6.0</td>\n",
       "      <td>Accept</td>\n",
       "    </tr>\n",
       "    <tr>\n",
       "      <th>2</th>\n",
       "      <td>iclr_review_0002</td>\n",
       "      <td>#. #. #. #</td>\n",
       "      <td>NaN</td>\n",
       "      <td>6.0</td>\n",
       "      <td>Accept</td>\n",
       "    </tr>\n",
       "    <tr>\n",
       "      <th>3</th>\n",
       "      <td>iclr_review_0003</td>\n",
       "      <td>Sufficient Conditions for Robustness to Advers...</td>\n",
       "      <td>3.0</td>\n",
       "      <td>5.0</td>\n",
       "      <td>Reject</td>\n",
       "    </tr>\n",
       "    <tr>\n",
       "      <th>4</th>\n",
       "      <td>iclr_review_0004</td>\n",
       "      <td>Unsupervised Learning of the Set of Local Maxi...</td>\n",
       "      <td>3.0</td>\n",
       "      <td>8.0</td>\n",
       "      <td>Accept</td>\n",
       "    </tr>\n",
       "  </tbody>\n",
       "</table>\n",
       "</div>"
      ],
      "text/plain": [
       "          review_id                                               text  \\\n",
       "0  iclr_review_0000  Predicting Medications from Diagnostic Codes w...   \n",
       "1  iclr_review_0001  Unrestricted Adversarial Examples via Semantic...   \n",
       "2  iclr_review_0002                                         #. #. #. #   \n",
       "3  iclr_review_0003  Sufficient Conditions for Robustness to Advers...   \n",
       "4  iclr_review_0004  Unsupervised Learning of the Set of Local Maxi...   \n",
       "\n",
       "   confidence_score  review_score acceptance_status  \n",
       "0               3.0           6.0            Accept  \n",
       "1               NaN           6.0            Accept  \n",
       "2               NaN           6.0            Accept  \n",
       "3               3.0           5.0            Reject  \n",
       "4               3.0           8.0            Accept  "
      ]
     },
     "execution_count": 2,
     "metadata": {},
     "output_type": "execute_result"
    }
   ],
   "source": [
    "# Read the csv orignal file dataset \n",
    "PRW=pd.read_csv(\"processed_reviews_split_surnamesABCD_minimal.csv\")\n",
    "# Display the first 5 rows of the dataset\n",
    "PRW.head(5)"
   ]
  },
  {
   "cell_type": "code",
   "execution_count": 3,
   "id": "b034621e",
   "metadata": {},
   "outputs": [
    {
     "data": {
      "text/plain": [
       "(6119, 5)"
      ]
     },
     "execution_count": 3,
     "metadata": {},
     "output_type": "execute_result"
    }
   ],
   "source": [
    "# Display the shape of the entire dataset\n",
    "PRW.shape"
   ]
  },
  {
   "cell_type": "markdown",
   "id": "9605dce2",
   "metadata": {},
   "source": [
    "## Manage Data for the Exclusion CSV File"
   ]
  },
  {
   "cell_type": "code",
   "execution_count": 4,
   "id": "5ab45e60",
   "metadata": {},
   "outputs": [
    {
     "name": "stdout",
     "output_type": "stream",
     "text": [
      "Shape of the data after remove duplicates 6119\n"
     ]
    }
   ],
   "source": [
    "# Sorting the data based on review_id\n",
    "Sort_PRW = PRW.sort_values(\"review_id\", axis=0, na_position=\"last\")\n",
    "# Find and Drop the duplicate data based on the three features\n",
    "PRW1 = Sort_PRW.drop_duplicates(subset=[\"review_id\",\"text\",\"review_score\"])\n",
    "# Display the data after remove duplicates\n",
    "print(\"Shape of the data after remove duplicates {}\".format(PRW1.shape[0]))"
   ]
  },
  {
   "cell_type": "code",
   "execution_count": 5,
   "id": "40c20976",
   "metadata": {},
   "outputs": [
    {
     "data": {
      "text/plain": [
       "review_id               0\n",
       "text                   84\n",
       "confidence_score     2801\n",
       "review_score            0\n",
       "acceptance_status     390\n",
       "dtype: int64"
      ]
     },
     "execution_count": 5,
     "metadata": {},
     "output_type": "execute_result"
    }
   ],
   "source": [
    "#Check if the data has any null values (Missing value)\n",
    "PRW1.isnull().sum()"
   ]
  },
  {
   "cell_type": "code",
   "execution_count": 6,
   "id": "04b29f66",
   "metadata": {},
   "outputs": [
    {
     "data": {
      "text/html": [
       "<div>\n",
       "<style scoped>\n",
       "    .dataframe tbody tr th:only-of-type {\n",
       "        vertical-align: middle;\n",
       "    }\n",
       "\n",
       "    .dataframe tbody tr th {\n",
       "        vertical-align: top;\n",
       "    }\n",
       "\n",
       "    .dataframe thead th {\n",
       "        text-align: right;\n",
       "    }\n",
       "</style>\n",
       "<table border=\"1\" class=\"dataframe\">\n",
       "  <thead>\n",
       "    <tr style=\"text-align: right;\">\n",
       "      <th></th>\n",
       "      <th>review_id</th>\n",
       "      <th>text</th>\n",
       "      <th>confidence_score</th>\n",
       "      <th>review_score</th>\n",
       "      <th>acceptance_status</th>\n",
       "    </tr>\n",
       "  </thead>\n",
       "  <tbody>\n",
       "    <tr>\n",
       "      <th>1</th>\n",
       "      <td>iclr_review_0001</td>\n",
       "      <td>Unrestricted Adversarial Examples via Semantic...</td>\n",
       "      <td>NaN</td>\n",
       "      <td>6.0</td>\n",
       "      <td>Accept</td>\n",
       "    </tr>\n",
       "    <tr>\n",
       "      <th>2</th>\n",
       "      <td>iclr_review_0002</td>\n",
       "      <td>#. #. #. #</td>\n",
       "      <td>NaN</td>\n",
       "      <td>6.0</td>\n",
       "      <td>Accept</td>\n",
       "    </tr>\n",
       "    <tr>\n",
       "      <th>7</th>\n",
       "      <td>iclr_review_0007</td>\n",
       "      <td>Neural-Guided Symbolic Regression with Asympto...</td>\n",
       "      <td>NaN</td>\n",
       "      <td>8.0</td>\n",
       "      <td>Reject</td>\n",
       "    </tr>\n",
       "    <tr>\n",
       "      <th>8</th>\n",
       "      <td>iclr_review_0008</td>\n",
       "      <td>Lazy-CFR: fast and near-optimal regret minimiz...</td>\n",
       "      <td>NaN</td>\n",
       "      <td>8.0</td>\n",
       "      <td>Accept</td>\n",
       "    </tr>\n",
       "    <tr>\n",
       "      <th>9</th>\n",
       "      <td>iclr_review_0009</td>\n",
       "      <td>Learning Functionally Decomposed Hierarchies f...</td>\n",
       "      <td>NaN</td>\n",
       "      <td>6.0</td>\n",
       "      <td>Reject</td>\n",
       "    </tr>\n",
       "    <tr>\n",
       "      <th>...</th>\n",
       "      <td>...</td>\n",
       "      <td>...</td>\n",
       "      <td>...</td>\n",
       "      <td>...</td>\n",
       "      <td>...</td>\n",
       "    </tr>\n",
       "    <tr>\n",
       "      <th>6106</th>\n",
       "      <td>iclr_review_6106</td>\n",
       "      <td>Economy Statistical Recurrent Units For Inferr...</td>\n",
       "      <td>NaN</td>\n",
       "      <td>6.0</td>\n",
       "      <td>Accept</td>\n",
       "    </tr>\n",
       "    <tr>\n",
       "      <th>6107</th>\n",
       "      <td>iclr_review_6107</td>\n",
       "      <td>Depth-Recurrent Residual Connections for Super...</td>\n",
       "      <td>NaN</td>\n",
       "      <td>3.0</td>\n",
       "      <td>NaN</td>\n",
       "    </tr>\n",
       "    <tr>\n",
       "      <th>6110</th>\n",
       "      <td>iclr_review_6110</td>\n",
       "      <td>When Covariate-shifted Data Augmentation Incre...</td>\n",
       "      <td>NaN</td>\n",
       "      <td>6.0</td>\n",
       "      <td>Reject</td>\n",
       "    </tr>\n",
       "    <tr>\n",
       "      <th>6115</th>\n",
       "      <td>iclr_review_6115</td>\n",
       "      <td>Wasserstein Robust Reinforcement Learning. Rei...</td>\n",
       "      <td>NaN</td>\n",
       "      <td>3.0</td>\n",
       "      <td>Reject</td>\n",
       "    </tr>\n",
       "    <tr>\n",
       "      <th>6118</th>\n",
       "      <td>iclr_review_6118</td>\n",
       "      <td>Pre-trained Contextual Embedding of Source Cod...</td>\n",
       "      <td>NaN</td>\n",
       "      <td>6.0</td>\n",
       "      <td>Reject</td>\n",
       "    </tr>\n",
       "  </tbody>\n",
       "</table>\n",
       "<p>2844 rows × 5 columns</p>\n",
       "</div>"
      ],
      "text/plain": [
       "             review_id                                               text  \\\n",
       "1     iclr_review_0001  Unrestricted Adversarial Examples via Semantic...   \n",
       "2     iclr_review_0002                                         #. #. #. #   \n",
       "7     iclr_review_0007  Neural-Guided Symbolic Regression with Asympto...   \n",
       "8     iclr_review_0008  Lazy-CFR: fast and near-optimal regret minimiz...   \n",
       "9     iclr_review_0009  Learning Functionally Decomposed Hierarchies f...   \n",
       "...                ...                                                ...   \n",
       "6106  iclr_review_6106  Economy Statistical Recurrent Units For Inferr...   \n",
       "6107  iclr_review_6107  Depth-Recurrent Residual Connections for Super...   \n",
       "6110  iclr_review_6110  When Covariate-shifted Data Augmentation Incre...   \n",
       "6115  iclr_review_6115  Wasserstein Robust Reinforcement Learning. Rei...   \n",
       "6118  iclr_review_6118  Pre-trained Contextual Embedding of Source Cod...   \n",
       "\n",
       "      confidence_score  review_score acceptance_status  \n",
       "1                  NaN           6.0            Accept  \n",
       "2                  NaN           6.0            Accept  \n",
       "7                  NaN           8.0            Reject  \n",
       "8                  NaN           8.0            Accept  \n",
       "9                  NaN           6.0            Reject  \n",
       "...                ...           ...               ...  \n",
       "6106               NaN           6.0            Accept  \n",
       "6107               NaN           3.0               NaN  \n",
       "6110               NaN           6.0            Reject  \n",
       "6115               NaN           3.0            Reject  \n",
       "6118               NaN           6.0            Reject  \n",
       "\n",
       "[2844 rows x 5 columns]"
      ]
     },
     "execution_count": 6,
     "metadata": {},
     "output_type": "execute_result"
    }
   ],
   "source": [
    "# Find and Display the data that missing value\n",
    "NDT = PRW1[PRW1.isnull().any(axis=1)]\n",
    "NDT"
   ]
  },
  {
   "cell_type": "code",
   "execution_count": 7,
   "id": "ce0b23da",
   "metadata": {},
   "outputs": [
    {
     "data": {
      "text/html": [
       "<div>\n",
       "<style scoped>\n",
       "    .dataframe tbody tr th:only-of-type {\n",
       "        vertical-align: middle;\n",
       "    }\n",
       "\n",
       "    .dataframe tbody tr th {\n",
       "        vertical-align: top;\n",
       "    }\n",
       "\n",
       "    .dataframe thead th {\n",
       "        text-align: right;\n",
       "    }\n",
       "</style>\n",
       "<table border=\"1\" class=\"dataframe\">\n",
       "  <thead>\n",
       "    <tr style=\"text-align: right;\">\n",
       "      <th></th>\n",
       "      <th>data_id</th>\n",
       "    </tr>\n",
       "  </thead>\n",
       "  <tbody>\n",
       "    <tr>\n",
       "      <th>1</th>\n",
       "      <td>iclr_review_0001</td>\n",
       "    </tr>\n",
       "    <tr>\n",
       "      <th>2</th>\n",
       "      <td>iclr_review_0002</td>\n",
       "    </tr>\n",
       "    <tr>\n",
       "      <th>7</th>\n",
       "      <td>iclr_review_0007</td>\n",
       "    </tr>\n",
       "    <tr>\n",
       "      <th>8</th>\n",
       "      <td>iclr_review_0008</td>\n",
       "    </tr>\n",
       "    <tr>\n",
       "      <th>9</th>\n",
       "      <td>iclr_review_0009</td>\n",
       "    </tr>\n",
       "  </tbody>\n",
       "</table>\n",
       "</div>"
      ],
      "text/plain": [
       "            data_id\n",
       "1  iclr_review_0001\n",
       "2  iclr_review_0002\n",
       "7  iclr_review_0007\n",
       "8  iclr_review_0008\n",
       "9  iclr_review_0009"
      ]
     },
     "execution_count": 7,
     "metadata": {},
     "output_type": "execute_result"
    }
   ],
   "source": [
    "# Take only data_id for the exclusion dataframe\n",
    "NDT = NDT[['review_id']]\n",
    "NDT = NDT.rename(columns={'review_id': 'data_id'})\n",
    "NDT.head(5)"
   ]
  },
  {
   "cell_type": "code",
   "execution_count": 8,
   "id": "0e24773e",
   "metadata": {},
   "outputs": [
    {
     "data": {
      "text/html": [
       "<div>\n",
       "<style scoped>\n",
       "    .dataframe tbody tr th:only-of-type {\n",
       "        vertical-align: middle;\n",
       "    }\n",
       "\n",
       "    .dataframe tbody tr th {\n",
       "        vertical-align: top;\n",
       "    }\n",
       "\n",
       "    .dataframe thead th {\n",
       "        text-align: right;\n",
       "    }\n",
       "</style>\n",
       "<table border=\"1\" class=\"dataframe\">\n",
       "  <thead>\n",
       "    <tr style=\"text-align: right;\">\n",
       "      <th></th>\n",
       "      <th>data_id</th>\n",
       "      <th>excluded</th>\n",
       "    </tr>\n",
       "  </thead>\n",
       "  <tbody>\n",
       "    <tr>\n",
       "      <th>1</th>\n",
       "      <td>iclr_review_0001</td>\n",
       "      <td>1</td>\n",
       "    </tr>\n",
       "    <tr>\n",
       "      <th>2</th>\n",
       "      <td>iclr_review_0002</td>\n",
       "      <td>1</td>\n",
       "    </tr>\n",
       "    <tr>\n",
       "      <th>7</th>\n",
       "      <td>iclr_review_0007</td>\n",
       "      <td>1</td>\n",
       "    </tr>\n",
       "    <tr>\n",
       "      <th>8</th>\n",
       "      <td>iclr_review_0008</td>\n",
       "      <td>1</td>\n",
       "    </tr>\n",
       "    <tr>\n",
       "      <th>9</th>\n",
       "      <td>iclr_review_0009</td>\n",
       "      <td>1</td>\n",
       "    </tr>\n",
       "  </tbody>\n",
       "</table>\n",
       "</div>"
      ],
      "text/plain": [
       "            data_id  excluded\n",
       "1  iclr_review_0001         1\n",
       "2  iclr_review_0002         1\n",
       "7  iclr_review_0007         1\n",
       "8  iclr_review_0008         1\n",
       "9  iclr_review_0009         1"
      ]
     },
     "execution_count": 8,
     "metadata": {},
     "output_type": "execute_result"
    }
   ],
   "source": [
    "# Add the new column \"excluded\" all value 1, which mean was excluded\n",
    "NDT[\"excluded\"]=1\n",
    "NDT.head(5)"
   ]
  },
  {
   "cell_type": "code",
   "execution_count": 9,
   "id": "f20f2042",
   "metadata": {},
   "outputs": [
    {
     "data": {
      "text/html": [
       "<div>\n",
       "<style scoped>\n",
       "    .dataframe tbody tr th:only-of-type {\n",
       "        vertical-align: middle;\n",
       "    }\n",
       "\n",
       "    .dataframe tbody tr th {\n",
       "        vertical-align: top;\n",
       "    }\n",
       "\n",
       "    .dataframe thead th {\n",
       "        text-align: right;\n",
       "    }\n",
       "</style>\n",
       "<table border=\"1\" class=\"dataframe\">\n",
       "  <thead>\n",
       "    <tr style=\"text-align: right;\">\n",
       "      <th></th>\n",
       "      <th>data_id</th>\n",
       "      <th>excluded</th>\n",
       "      <th>reason_for_exclusion</th>\n",
       "    </tr>\n",
       "  </thead>\n",
       "  <tbody>\n",
       "    <tr>\n",
       "      <th>1</th>\n",
       "      <td>iclr_review_0001</td>\n",
       "      <td>1</td>\n",
       "      <td>Missing_value</td>\n",
       "    </tr>\n",
       "    <tr>\n",
       "      <th>2</th>\n",
       "      <td>iclr_review_0002</td>\n",
       "      <td>1</td>\n",
       "      <td>Missing_value</td>\n",
       "    </tr>\n",
       "    <tr>\n",
       "      <th>7</th>\n",
       "      <td>iclr_review_0007</td>\n",
       "      <td>1</td>\n",
       "      <td>Missing_value</td>\n",
       "    </tr>\n",
       "    <tr>\n",
       "      <th>8</th>\n",
       "      <td>iclr_review_0008</td>\n",
       "      <td>1</td>\n",
       "      <td>Missing_value</td>\n",
       "    </tr>\n",
       "    <tr>\n",
       "      <th>9</th>\n",
       "      <td>iclr_review_0009</td>\n",
       "      <td>1</td>\n",
       "      <td>Missing_value</td>\n",
       "    </tr>\n",
       "    <tr>\n",
       "      <th>...</th>\n",
       "      <td>...</td>\n",
       "      <td>...</td>\n",
       "      <td>...</td>\n",
       "    </tr>\n",
       "    <tr>\n",
       "      <th>6106</th>\n",
       "      <td>iclr_review_6106</td>\n",
       "      <td>1</td>\n",
       "      <td>Missing_value</td>\n",
       "    </tr>\n",
       "    <tr>\n",
       "      <th>6107</th>\n",
       "      <td>iclr_review_6107</td>\n",
       "      <td>1</td>\n",
       "      <td>Missing_value</td>\n",
       "    </tr>\n",
       "    <tr>\n",
       "      <th>6110</th>\n",
       "      <td>iclr_review_6110</td>\n",
       "      <td>1</td>\n",
       "      <td>Missing_value</td>\n",
       "    </tr>\n",
       "    <tr>\n",
       "      <th>6115</th>\n",
       "      <td>iclr_review_6115</td>\n",
       "      <td>1</td>\n",
       "      <td>Missing_value</td>\n",
       "    </tr>\n",
       "    <tr>\n",
       "      <th>6118</th>\n",
       "      <td>iclr_review_6118</td>\n",
       "      <td>1</td>\n",
       "      <td>Missing_value</td>\n",
       "    </tr>\n",
       "  </tbody>\n",
       "</table>\n",
       "<p>2844 rows × 3 columns</p>\n",
       "</div>"
      ],
      "text/plain": [
       "               data_id  excluded reason_for_exclusion\n",
       "1     iclr_review_0001         1        Missing_value\n",
       "2     iclr_review_0002         1        Missing_value\n",
       "7     iclr_review_0007         1        Missing_value\n",
       "8     iclr_review_0008         1        Missing_value\n",
       "9     iclr_review_0009         1        Missing_value\n",
       "...                ...       ...                  ...\n",
       "6106  iclr_review_6106         1        Missing_value\n",
       "6107  iclr_review_6107         1        Missing_value\n",
       "6110  iclr_review_6110         1        Missing_value\n",
       "6115  iclr_review_6115         1        Missing_value\n",
       "6118  iclr_review_6118         1        Missing_value\n",
       "\n",
       "[2844 rows x 3 columns]"
      ]
     },
     "execution_count": 9,
     "metadata": {},
     "output_type": "execute_result"
    }
   ],
   "source": [
    "# Add the new column \"reasion_for_exclusion\" all value \"Missing_value\"\n",
    "NDT[\"reason_for_exclusion\"] = \"Missing_value\"\n",
    "NDT"
   ]
  },
  {
   "cell_type": "code",
   "execution_count": 10,
   "id": "dec1ac79",
   "metadata": {},
   "outputs": [],
   "source": [
    "# Create a csv file named \"exclusions_dataset_task1.csv\" for the exclusion dataframe\n",
    "NDT.to_csv('exclusions_dataset_task1.csv', index = False)"
   ]
  },
  {
   "cell_type": "markdown",
   "id": "493ba63b",
   "metadata": {},
   "source": [
    "# 2. Multiclass Classification to Implement Acceptance Status"
   ]
  },
  {
   "cell_type": "markdown",
   "id": "3e8a471d",
   "metadata": {},
   "source": [
    "## Dataset Analysis"
   ]
  },
  {
   "cell_type": "code",
   "execution_count": 11,
   "id": "98314afd",
   "metadata": {},
   "outputs": [
    {
     "data": {
      "text/html": [
       "<div>\n",
       "<style scoped>\n",
       "    .dataframe tbody tr th:only-of-type {\n",
       "        vertical-align: middle;\n",
       "    }\n",
       "\n",
       "    .dataframe tbody tr th {\n",
       "        vertical-align: top;\n",
       "    }\n",
       "\n",
       "    .dataframe thead th {\n",
       "        text-align: right;\n",
       "    }\n",
       "</style>\n",
       "<table border=\"1\" class=\"dataframe\">\n",
       "  <thead>\n",
       "    <tr style=\"text-align: right;\">\n",
       "      <th></th>\n",
       "      <th>review_id</th>\n",
       "      <th>text</th>\n",
       "      <th>confidence_score</th>\n",
       "      <th>review_score</th>\n",
       "      <th>acceptance_status</th>\n",
       "    </tr>\n",
       "  </thead>\n",
       "  <tbody>\n",
       "    <tr>\n",
       "      <th>0</th>\n",
       "      <td>iclr_review_0000</td>\n",
       "      <td>Predicting Medications from Diagnostic Codes w...</td>\n",
       "      <td>3.0</td>\n",
       "      <td>6.0</td>\n",
       "      <td>Accept</td>\n",
       "    </tr>\n",
       "    <tr>\n",
       "      <th>1</th>\n",
       "      <td>iclr_review_0001</td>\n",
       "      <td>Unrestricted Adversarial Examples via Semantic...</td>\n",
       "      <td>NaN</td>\n",
       "      <td>6.0</td>\n",
       "      <td>Accept</td>\n",
       "    </tr>\n",
       "    <tr>\n",
       "      <th>2</th>\n",
       "      <td>iclr_review_0002</td>\n",
       "      <td>#. #. #. #</td>\n",
       "      <td>NaN</td>\n",
       "      <td>6.0</td>\n",
       "      <td>Accept</td>\n",
       "    </tr>\n",
       "    <tr>\n",
       "      <th>3</th>\n",
       "      <td>iclr_review_0003</td>\n",
       "      <td>Sufficient Conditions for Robustness to Advers...</td>\n",
       "      <td>3.0</td>\n",
       "      <td>5.0</td>\n",
       "      <td>Reject</td>\n",
       "    </tr>\n",
       "    <tr>\n",
       "      <th>4</th>\n",
       "      <td>iclr_review_0004</td>\n",
       "      <td>Unsupervised Learning of the Set of Local Maxi...</td>\n",
       "      <td>3.0</td>\n",
       "      <td>8.0</td>\n",
       "      <td>Accept</td>\n",
       "    </tr>\n",
       "    <tr>\n",
       "      <th>...</th>\n",
       "      <td>...</td>\n",
       "      <td>...</td>\n",
       "      <td>...</td>\n",
       "      <td>...</td>\n",
       "      <td>...</td>\n",
       "    </tr>\n",
       "    <tr>\n",
       "      <th>6114</th>\n",
       "      <td>iclr_review_6114</td>\n",
       "      <td>PixelNN: Example-based Image Synthesis. We pre...</td>\n",
       "      <td>3.0</td>\n",
       "      <td>7.0</td>\n",
       "      <td>Accept</td>\n",
       "    </tr>\n",
       "    <tr>\n",
       "      <th>6115</th>\n",
       "      <td>iclr_review_6115</td>\n",
       "      <td>Wasserstein Robust Reinforcement Learning. Rei...</td>\n",
       "      <td>NaN</td>\n",
       "      <td>3.0</td>\n",
       "      <td>Reject</td>\n",
       "    </tr>\n",
       "    <tr>\n",
       "      <th>6116</th>\n",
       "      <td>iclr_review_6116</td>\n",
       "      <td>Learning to Augment Influential Data. Data aug...</td>\n",
       "      <td>4.0</td>\n",
       "      <td>6.0</td>\n",
       "      <td>Reject</td>\n",
       "    </tr>\n",
       "    <tr>\n",
       "      <th>6117</th>\n",
       "      <td>iclr_review_6117</td>\n",
       "      <td>The Incredible Shrinking Neural Network: New P...</td>\n",
       "      <td>4.0</td>\n",
       "      <td>3.0</td>\n",
       "      <td>Reject</td>\n",
       "    </tr>\n",
       "    <tr>\n",
       "      <th>6118</th>\n",
       "      <td>iclr_review_6118</td>\n",
       "      <td>Pre-trained Contextual Embedding of Source Cod...</td>\n",
       "      <td>NaN</td>\n",
       "      <td>6.0</td>\n",
       "      <td>Reject</td>\n",
       "    </tr>\n",
       "  </tbody>\n",
       "</table>\n",
       "<p>6119 rows × 5 columns</p>\n",
       "</div>"
      ],
      "text/plain": [
       "             review_id                                               text  \\\n",
       "0     iclr_review_0000  Predicting Medications from Diagnostic Codes w...   \n",
       "1     iclr_review_0001  Unrestricted Adversarial Examples via Semantic...   \n",
       "2     iclr_review_0002                                         #. #. #. #   \n",
       "3     iclr_review_0003  Sufficient Conditions for Robustness to Advers...   \n",
       "4     iclr_review_0004  Unsupervised Learning of the Set of Local Maxi...   \n",
       "...                ...                                                ...   \n",
       "6114  iclr_review_6114  PixelNN: Example-based Image Synthesis. We pre...   \n",
       "6115  iclr_review_6115  Wasserstein Robust Reinforcement Learning. Rei...   \n",
       "6116  iclr_review_6116  Learning to Augment Influential Data. Data aug...   \n",
       "6117  iclr_review_6117  The Incredible Shrinking Neural Network: New P...   \n",
       "6118  iclr_review_6118  Pre-trained Contextual Embedding of Source Cod...   \n",
       "\n",
       "      confidence_score  review_score acceptance_status  \n",
       "0                  3.0           6.0            Accept  \n",
       "1                  NaN           6.0            Accept  \n",
       "2                  NaN           6.0            Accept  \n",
       "3                  3.0           5.0            Reject  \n",
       "4                  3.0           8.0            Accept  \n",
       "...                ...           ...               ...  \n",
       "6114               3.0           7.0            Accept  \n",
       "6115               NaN           3.0            Reject  \n",
       "6116               4.0           6.0            Reject  \n",
       "6117               4.0           3.0            Reject  \n",
       "6118               NaN           6.0            Reject  \n",
       "\n",
       "[6119 rows x 5 columns]"
      ]
     },
     "execution_count": 11,
     "metadata": {},
     "output_type": "execute_result"
    }
   ],
   "source": [
    "# Display the orginal dataset\n",
    "PRW"
   ]
  },
  {
   "cell_type": "code",
   "execution_count": 12,
   "id": "c90b4a8a",
   "metadata": {},
   "outputs": [
    {
     "name": "stdout",
     "output_type": "stream",
     "text": [
      "<class 'pandas.core.frame.DataFrame'>\n",
      "RangeIndex: 6119 entries, 0 to 6118\n",
      "Data columns (total 5 columns):\n",
      " #   Column             Non-Null Count  Dtype  \n",
      "---  ------             --------------  -----  \n",
      " 0   review_id          6119 non-null   object \n",
      " 1   text               6035 non-null   object \n",
      " 2   confidence_score   3318 non-null   float64\n",
      " 3   review_score       6119 non-null   float64\n",
      " 4   acceptance_status  5729 non-null   object \n",
      "dtypes: float64(2), object(3)\n",
      "memory usage: 239.1+ KB\n"
     ]
    }
   ],
   "source": [
    "# Check the basic information of the dataset\n",
    "PRW.info()"
   ]
  },
  {
   "cell_type": "code",
   "execution_count": 13,
   "id": "6830326c",
   "metadata": {},
   "outputs": [
    {
     "data": {
      "text/html": [
       "<div>\n",
       "<style scoped>\n",
       "    .dataframe tbody tr th:only-of-type {\n",
       "        vertical-align: middle;\n",
       "    }\n",
       "\n",
       "    .dataframe tbody tr th {\n",
       "        vertical-align: top;\n",
       "    }\n",
       "\n",
       "    .dataframe thead th {\n",
       "        text-align: right;\n",
       "    }\n",
       "</style>\n",
       "<table border=\"1\" class=\"dataframe\">\n",
       "  <thead>\n",
       "    <tr style=\"text-align: right;\">\n",
       "      <th></th>\n",
       "      <th>confidence_score</th>\n",
       "      <th>review_score</th>\n",
       "    </tr>\n",
       "  </thead>\n",
       "  <tbody>\n",
       "    <tr>\n",
       "      <th>count</th>\n",
       "      <td>3318.000000</td>\n",
       "      <td>6119.000000</td>\n",
       "    </tr>\n",
       "    <tr>\n",
       "      <th>mean</th>\n",
       "      <td>3.795057</td>\n",
       "      <td>4.689492</td>\n",
       "    </tr>\n",
       "    <tr>\n",
       "      <th>std</th>\n",
       "      <td>0.815260</td>\n",
       "      <td>2.192145</td>\n",
       "    </tr>\n",
       "    <tr>\n",
       "      <th>min</th>\n",
       "      <td>1.000000</td>\n",
       "      <td>-1.000000</td>\n",
       "    </tr>\n",
       "    <tr>\n",
       "      <th>25%</th>\n",
       "      <td>3.000000</td>\n",
       "      <td>3.000000</td>\n",
       "    </tr>\n",
       "    <tr>\n",
       "      <th>50%</th>\n",
       "      <td>4.000000</td>\n",
       "      <td>5.000000</td>\n",
       "    </tr>\n",
       "    <tr>\n",
       "      <th>75%</th>\n",
       "      <td>4.000000</td>\n",
       "      <td>6.000000</td>\n",
       "    </tr>\n",
       "    <tr>\n",
       "      <th>max</th>\n",
       "      <td>5.000000</td>\n",
       "      <td>10.000000</td>\n",
       "    </tr>\n",
       "  </tbody>\n",
       "</table>\n",
       "</div>"
      ],
      "text/plain": [
       "       confidence_score  review_score\n",
       "count       3318.000000   6119.000000\n",
       "mean           3.795057      4.689492\n",
       "std            0.815260      2.192145\n",
       "min            1.000000     -1.000000\n",
       "25%            3.000000      3.000000\n",
       "50%            4.000000      5.000000\n",
       "75%            4.000000      6.000000\n",
       "max            5.000000     10.000000"
      ]
     },
     "execution_count": 13,
     "metadata": {},
     "output_type": "execute_result"
    }
   ],
   "source": [
    "# Check for the data structure\n",
    "PRW.describe()"
   ]
  },
  {
   "cell_type": "markdown",
   "id": "af9d6855",
   "metadata": {},
   "source": [
    "## Data Cleaning"
   ]
  },
  {
   "cell_type": "code",
   "execution_count": 14,
   "id": "01f36142",
   "metadata": {},
   "outputs": [
    {
     "name": "stdout",
     "output_type": "stream",
     "text": [
      "Shape of the data after remove duplicates 6119\n"
     ]
    }
   ],
   "source": [
    "# Sorting the data based on review_id\n",
    "Sort_PRW = PRW.sort_values(\"review_id\", axis=0, na_position=\"last\")\n",
    "# Find and Drop the duplicate data based on the three features\n",
    "PRW = Sort_PRW.drop_duplicates(subset=[\"review_id\",\"text\",\"review_score\"])\n",
    "# Display the data after remove duplicates\n",
    "print(\"Shape of the data after remove duplicates {}\".format(PRW1.shape[0]))"
   ]
  },
  {
   "cell_type": "code",
   "execution_count": 15,
   "id": "ce1ad922",
   "metadata": {},
   "outputs": [
    {
     "data": {
      "text/plain": [
       "review_id               0\n",
       "text                   84\n",
       "confidence_score     2801\n",
       "review_score            0\n",
       "acceptance_status     390\n",
       "dtype: int64"
      ]
     },
     "execution_count": 15,
     "metadata": {},
     "output_type": "execute_result"
    }
   ],
   "source": [
    "# Check if the data has any null values (Missing value)\n",
    "PRW.isnull().sum()"
   ]
  },
  {
   "cell_type": "code",
   "execution_count": 16,
   "id": "b9a7162a",
   "metadata": {},
   "outputs": [
    {
     "data": {
      "text/html": [
       "<div>\n",
       "<style scoped>\n",
       "    .dataframe tbody tr th:only-of-type {\n",
       "        vertical-align: middle;\n",
       "    }\n",
       "\n",
       "    .dataframe tbody tr th {\n",
       "        vertical-align: top;\n",
       "    }\n",
       "\n",
       "    .dataframe thead th {\n",
       "        text-align: right;\n",
       "    }\n",
       "</style>\n",
       "<table border=\"1\" class=\"dataframe\">\n",
       "  <thead>\n",
       "    <tr style=\"text-align: right;\">\n",
       "      <th></th>\n",
       "      <th>text</th>\n",
       "      <th>acceptance_status</th>\n",
       "    </tr>\n",
       "  </thead>\n",
       "  <tbody>\n",
       "    <tr>\n",
       "      <th>0</th>\n",
       "      <td>Predicting Medications from Diagnostic Codes w...</td>\n",
       "      <td>Accept</td>\n",
       "    </tr>\n",
       "    <tr>\n",
       "      <th>1</th>\n",
       "      <td>Unrestricted Adversarial Examples via Semantic...</td>\n",
       "      <td>Accept</td>\n",
       "    </tr>\n",
       "    <tr>\n",
       "      <th>2</th>\n",
       "      <td>#. #. #. #</td>\n",
       "      <td>Accept</td>\n",
       "    </tr>\n",
       "    <tr>\n",
       "      <th>3</th>\n",
       "      <td>Sufficient Conditions for Robustness to Advers...</td>\n",
       "      <td>Reject</td>\n",
       "    </tr>\n",
       "    <tr>\n",
       "      <th>4</th>\n",
       "      <td>Unsupervised Learning of the Set of Local Maxi...</td>\n",
       "      <td>Accept</td>\n",
       "    </tr>\n",
       "    <tr>\n",
       "      <th>...</th>\n",
       "      <td>...</td>\n",
       "      <td>...</td>\n",
       "    </tr>\n",
       "    <tr>\n",
       "      <th>6114</th>\n",
       "      <td>PixelNN: Example-based Image Synthesis. We pre...</td>\n",
       "      <td>Accept</td>\n",
       "    </tr>\n",
       "    <tr>\n",
       "      <th>6115</th>\n",
       "      <td>Wasserstein Robust Reinforcement Learning. Rei...</td>\n",
       "      <td>Reject</td>\n",
       "    </tr>\n",
       "    <tr>\n",
       "      <th>6116</th>\n",
       "      <td>Learning to Augment Influential Data. Data aug...</td>\n",
       "      <td>Reject</td>\n",
       "    </tr>\n",
       "    <tr>\n",
       "      <th>6117</th>\n",
       "      <td>The Incredible Shrinking Neural Network: New P...</td>\n",
       "      <td>Reject</td>\n",
       "    </tr>\n",
       "    <tr>\n",
       "      <th>6118</th>\n",
       "      <td>Pre-trained Contextual Embedding of Source Cod...</td>\n",
       "      <td>Reject</td>\n",
       "    </tr>\n",
       "  </tbody>\n",
       "</table>\n",
       "<p>6119 rows × 2 columns</p>\n",
       "</div>"
      ],
      "text/plain": [
       "                                                   text acceptance_status\n",
       "0     Predicting Medications from Diagnostic Codes w...            Accept\n",
       "1     Unrestricted Adversarial Examples via Semantic...            Accept\n",
       "2                                            #. #. #. #            Accept\n",
       "3     Sufficient Conditions for Robustness to Advers...            Reject\n",
       "4     Unsupervised Learning of the Set of Local Maxi...            Accept\n",
       "...                                                 ...               ...\n",
       "6114  PixelNN: Example-based Image Synthesis. We pre...            Accept\n",
       "6115  Wasserstein Robust Reinforcement Learning. Rei...            Reject\n",
       "6116  Learning to Augment Influential Data. Data aug...            Reject\n",
       "6117  The Incredible Shrinking Neural Network: New P...            Reject\n",
       "6118  Pre-trained Contextual Embedding of Source Cod...            Reject\n",
       "\n",
       "[6119 rows x 2 columns]"
      ]
     },
     "execution_count": 16,
     "metadata": {},
     "output_type": "execute_result"
    }
   ],
   "source": [
    "# Take the two main features for this stage implementation\n",
    "DT1 = PRW[[\"text\", \"acceptance_status\"]]\n",
    "DT1"
   ]
  },
  {
   "cell_type": "code",
   "execution_count": 17,
   "id": "5d572b08",
   "metadata": {},
   "outputs": [
    {
     "data": {
      "text/plain": [
       "text                  84\n",
       "acceptance_status    390\n",
       "dtype: int64"
      ]
     },
     "execution_count": 17,
     "metadata": {},
     "output_type": "execute_result"
    }
   ],
   "source": [
    "# Check if the two features has any missing value\n",
    "DT1.isnull().sum()"
   ]
  },
  {
   "cell_type": "code",
   "execution_count": 18,
   "id": "a0f7cf30",
   "metadata": {},
   "outputs": [
    {
     "data": {
      "text/html": [
       "<div>\n",
       "<style scoped>\n",
       "    .dataframe tbody tr th:only-of-type {\n",
       "        vertical-align: middle;\n",
       "    }\n",
       "\n",
       "    .dataframe tbody tr th {\n",
       "        vertical-align: top;\n",
       "    }\n",
       "\n",
       "    .dataframe thead th {\n",
       "        text-align: right;\n",
       "    }\n",
       "</style>\n",
       "<table border=\"1\" class=\"dataframe\">\n",
       "  <thead>\n",
       "    <tr style=\"text-align: right;\">\n",
       "      <th></th>\n",
       "      <th>text</th>\n",
       "      <th>acceptance_status</th>\n",
       "    </tr>\n",
       "  </thead>\n",
       "  <tbody>\n",
       "    <tr>\n",
       "      <th>53</th>\n",
       "      <td>Compressive Hyperspherical Energy Minimization...</td>\n",
       "      <td>NaN</td>\n",
       "    </tr>\n",
       "    <tr>\n",
       "      <th>57</th>\n",
       "      <td>Study of a Simple, Expressive and Consistent G...</td>\n",
       "      <td>NaN</td>\n",
       "    </tr>\n",
       "    <tr>\n",
       "      <th>68</th>\n",
       "      <td>Randomness in Deconvolutional Networks for Vis...</td>\n",
       "      <td>NaN</td>\n",
       "    </tr>\n",
       "    <tr>\n",
       "      <th>77</th>\n",
       "      <td>Mem2Mem: Learning to Summarize Long Texts with...</td>\n",
       "      <td>NaN</td>\n",
       "    </tr>\n",
       "    <tr>\n",
       "      <th>95</th>\n",
       "      <td>Recurrent Layer Attention Network. Capturing l...</td>\n",
       "      <td>NaN</td>\n",
       "    </tr>\n",
       "    <tr>\n",
       "      <th>...</th>\n",
       "      <td>...</td>\n",
       "      <td>...</td>\n",
       "    </tr>\n",
       "    <tr>\n",
       "      <th>6029</th>\n",
       "      <td>Capsule Networks without Routing Procedures. W...</td>\n",
       "      <td>NaN</td>\n",
       "    </tr>\n",
       "    <tr>\n",
       "      <th>6069</th>\n",
       "      <td>VISUALIZING POINT CLOUD CLASSIFIERS BY MORPHIN...</td>\n",
       "      <td>NaN</td>\n",
       "    </tr>\n",
       "    <tr>\n",
       "      <th>6071</th>\n",
       "      <td>Measure by Measure: Automatic Music Compositio...</td>\n",
       "      <td>NaN</td>\n",
       "    </tr>\n",
       "    <tr>\n",
       "      <th>6080</th>\n",
       "      <td>StacNAS: Towards Stable and Consistent Optimiz...</td>\n",
       "      <td>NaN</td>\n",
       "    </tr>\n",
       "    <tr>\n",
       "      <th>6107</th>\n",
       "      <td>Depth-Recurrent Residual Connections for Super...</td>\n",
       "      <td>NaN</td>\n",
       "    </tr>\n",
       "  </tbody>\n",
       "</table>\n",
       "<p>469 rows × 2 columns</p>\n",
       "</div>"
      ],
      "text/plain": [
       "                                                   text acceptance_status\n",
       "53    Compressive Hyperspherical Energy Minimization...               NaN\n",
       "57    Study of a Simple, Expressive and Consistent G...               NaN\n",
       "68    Randomness in Deconvolutional Networks for Vis...               NaN\n",
       "77    Mem2Mem: Learning to Summarize Long Texts with...               NaN\n",
       "95    Recurrent Layer Attention Network. Capturing l...               NaN\n",
       "...                                                 ...               ...\n",
       "6029  Capsule Networks without Routing Procedures. W...               NaN\n",
       "6069  VISUALIZING POINT CLOUD CLASSIFIERS BY MORPHIN...               NaN\n",
       "6071  Measure by Measure: Automatic Music Compositio...               NaN\n",
       "6080  StacNAS: Towards Stable and Consistent Optimiz...               NaN\n",
       "6107  Depth-Recurrent Residual Connections for Super...               NaN\n",
       "\n",
       "[469 rows x 2 columns]"
      ]
     },
     "execution_count": 18,
     "metadata": {},
     "output_type": "execute_result"
    }
   ],
   "source": [
    "# Check and Display the missing values\n",
    "NDT1 = DT1[DT1.isnull().any(axis=1)]\n",
    "NDT1"
   ]
  },
  {
   "cell_type": "code",
   "execution_count": 19,
   "id": "c4b4290f",
   "metadata": {},
   "outputs": [
    {
     "name": "stdout",
     "output_type": "stream",
     "text": [
      "                                                   text acceptance_status\n",
      "0     Predicting Medications from Diagnostic Codes w...            Accept\n",
      "1     Unrestricted Adversarial Examples via Semantic...            Accept\n",
      "2                                            #. #. #. #            Accept\n",
      "3     Sufficient Conditions for Robustness to Advers...            Reject\n",
      "4     Unsupervised Learning of the Set of Local Maxi...            Accept\n",
      "...                                                 ...               ...\n",
      "6114  PixelNN: Example-based Image Synthesis. We pre...            Accept\n",
      "6115  Wasserstein Robust Reinforcement Learning. Rei...            Reject\n",
      "6116  Learning to Augment Influential Data. Data aug...            Reject\n",
      "6117  The Incredible Shrinking Neural Network: New P...            Reject\n",
      "6118  Pre-trained Contextual Embedding of Source Cod...            Reject\n",
      "\n",
      "[5650 rows x 2 columns]\n"
     ]
    }
   ],
   "source": [
    "# Drop all the missing value\n",
    "DT1 = DT1.dropna()\n",
    "# Display the final data that use for the next step\n",
    "print(DT1)"
   ]
  },
  {
   "cell_type": "markdown",
   "id": "c2cba797",
   "metadata": {},
   "source": [
    "## Text Preprocessing"
   ]
  },
  {
   "cell_type": "code",
   "execution_count": 20,
   "id": "917b1e8b",
   "metadata": {},
   "outputs": [],
   "source": [
    "# Load the english pipeline \n",
    "nlp = en_core_web_sm.load()"
   ]
  },
  {
   "cell_type": "code",
   "execution_count": 21,
   "id": "f5b4fccd",
   "metadata": {},
   "outputs": [
    {
     "name": "stdout",
     "output_type": "stream",
     "text": [
      "['wherein', 'really', 'any', 'among', 'thus', 'becomes', 'cannot', 'all', 'upon', 'been', 'latter', 'below', 'again', 'enough', 'former', 'off', 'nowhere', 'doing', 'hundred', 'see', 'had', 'my', 'may', 'whole', '’m', 'yours', 'never', 'give', 'the', 'except', 'otherwise', 'everything', 'in', 'moreover', 'until', 'under', 'whence', 'must', 'most', 'first', 'none', 'would', 'could', 'four', 'you', 'beyond', 'onto', 'beside', 'seeming', 'his', 'do', 'noone', 'but', 'anyhow', 'are', 'he', 'us', 'such', 'were', 'when', 'herein', 'therefore', 'a', 'not', 'twenty', 'everyone', 'since', 'she', 'often', 'then', '‘ve', 'is', 'nevertheless', 'although', 'became', 'more', 'if', 'nobody', 'made', 'ca', 'at', 'both', 'keep', 'might', 'very', 'what', 'full', 'some', 'much', 'call', 'anyway', 'once', 'get', '‘re', 'throughout', 'together', 'towards', 'sixty', 'empty', 'than', 'something', 'where', 'up', 'these', 'seems', 'amount', 'him', 'seemed', 'please', 'another', 'with', 'hers', 'so', 'still', 'has', 'without', 'few', 'through', 'its', 'behind', 'have', 'be', 'ours', 'did', 'others', 'meanwhile', '’s', 'move', 'while', 'make', 'further', 'now', 'each', \"'ve\", 'and', 'as', 'every', 'toward', 'between', \"'d\", 'i', '‘ll', 'no', 'front', 'neither', 'yourselves', 'was', 'thereafter', 'done', 'put', 'other', 'am', 'say', 'next', 'within', 'before', 'last', 'regarding', 'whenever', 'formerly', 'too', 'eight', 'just', 'even', 'anywhere', 'top', 'itself', 'across', 'herself', 'indeed', 'hence', 'of', 'himself', 'ever', 'nine', 'per', 'this', '’d', 'over', 'six', 'thereby', 'serious', 'yourself', 'besides', 'various', 'everywhere', 'our', 'whoever', 'forty', 'back', 'many', 'three', 'go', 'me', 'namely', 'elsewhere', 'wherever', 'yet', 'nor', 'become', 'latterly', 'becoming', 'whose', 'less', 'mostly', 'take', '’ve', '‘d', 'alone', 'hereafter', 'into', 'out', 'for', 'themselves', 'though', 'bottom', 'should', 'we', 'hereupon', 'same', 'fifty', 'afterwards', 'down', 'after', 'unless', 'whatever', 'almost', 'whether', 'who', 'quite', 'whereafter', 'seem', 'her', 'your', 'myself', 'rather', 'whereas', 'that', 'why', 'well', 'own', 'them', \"'m\", 'how', 'being', 'somewhere', '’re', 'above', 'those', 'by', 'only', 'can', 'thereupon', \"'ll\", 'n‘t', 'else', 'someone', 'ten', 'side', 'hereby', '‘s', 'whom', 'third', 'beforehand', 'it', 'part', \"n't\", 'because', 'around', 'sometimes', 'eleven', 'perhaps', 'five', 'against', 'one', 'either', 'they', '‘m', 'an', 'thru', 'along', 'about', 'fifteen', 'also', 'always', '’ll', 'their', 'mine', 'using', 'already', 'twelve', 'thence', 'will', 'during', 'however', 'anyone', 'nothing', \"'re\", 'therein', 'via', 'due', 'or', 'n’t', 'two', 'whereupon', \"'s\", 'does', 'to', 'show', 'somehow', 'used', 'which', 'least', 'anything', 'name', 'ourselves', 'here', 'from', 'sometime', 'there', 're', 'whereby', 'on', 'several', 'whither', 'amongst']\n"
     ]
    }
   ],
   "source": [
    "# Get and Display all the stopwords\n",
    "stopwords = list(STOP_WORDS)\n",
    "print(stopwords)"
   ]
  },
  {
   "cell_type": "code",
   "execution_count": 22,
   "id": "02a662ea",
   "metadata": {},
   "outputs": [
    {
     "name": "stdout",
     "output_type": "stream",
     "text": [
      "!\"#$%&'()*+,-./:;<=>?@[\\]^_`{|}~\n"
     ]
    }
   ],
   "source": [
    "# Get and Display the punctuation\n",
    "punct = string.punctuation\n",
    "print(punct)"
   ]
  },
  {
   "cell_type": "code",
   "execution_count": 23,
   "id": "79db9a29",
   "metadata": {},
   "outputs": [],
   "source": [
    "# Function for the text cleaning\n",
    "def textcleaner(phrase):\n",
    "  t = nlp(phrase)\n",
    "  tokens = []\n",
    "  for token in t:\n",
    "    if token.lemma_ != '-PRON-':\n",
    "      temp = token.lemma_.lower().strip()\n",
    "    else:\n",
    "      temp = token.lower_\n",
    "    tokens.append(temp)\n",
    "  clean_text = []\n",
    "  for token in tokens:\n",
    "    if token not in punct and token not in stopwords:\n",
    "      clean_text.append(token)\n",
    "  return clean_text"
   ]
  },
  {
   "cell_type": "code",
   "execution_count": 24,
   "id": "51e530e3",
   "metadata": {},
   "outputs": [
    {
     "data": {
      "text/plain": [
       "['test', 'text_cleaner']"
      ]
     },
     "execution_count": 24,
     "metadata": {},
     "output_type": "execute_result"
    }
   ],
   "source": [
    "# Test example for the textcleaner function\n",
    "textcleaner(\"This the test for the text_cleaner.\")"
   ]
  },
  {
   "cell_type": "markdown",
   "id": "c1a4aec8",
   "metadata": {},
   "source": [
    "## Split Data"
   ]
  },
  {
   "cell_type": "code",
   "execution_count": 25,
   "id": "c47986d3",
   "metadata": {},
   "outputs": [
    {
     "name": "stdout",
     "output_type": "stream",
     "text": [
      "X_train shape:  (4520,)\n",
      "X_test shape:  (1130,)\n",
      "Y_train shape:  (4520,)\n",
      "Y_test shape:  (1130,)\n"
     ]
    }
   ],
   "source": [
    "# Spillting the train and test data\n",
    "X = DT1['text']\n",
    "y = DT1['acceptance_status']\n",
    "\n",
    "X_train, X_test, y_train, y_test = train_test_split(X, y, test_size = 0.2)\n",
    "\n",
    "# Display the shape of each train and test data\n",
    "print(\"X_train shape: \",X_train.shape)\n",
    "print(\"X_test shape: \",X_test.shape)\n",
    "print(\"Y_train shape: \",y_train.shape)\n",
    "print(\"Y_test shape: \",y_test.shape)"
   ]
  },
  {
   "cell_type": "markdown",
   "id": "167426b2",
   "metadata": {},
   "source": [
    "## LinearSVC Evaluation"
   ]
  },
  {
   "cell_type": "code",
   "execution_count": 26,
   "id": "4ef52b6f",
   "metadata": {},
   "outputs": [],
   "source": [
    "# Use Linear SVC creating the model and pipeline \n",
    "tfidf = TfidfVectorizer(tokenizer = textcleaner)\n",
    "svm = LinearSVC()\n",
    "\n",
    "svc = [('tfidf',tfidf),('svm',svm)]\n",
    "svcpipe = Pipeline(svc)"
   ]
  },
  {
   "cell_type": "code",
   "execution_count": 27,
   "id": "765b214c",
   "metadata": {},
   "outputs": [
    {
     "data": {
      "text/plain": [
       "Pipeline(steps=[('tfidf',\n",
       "                 TfidfVectorizer(tokenizer=<function textcleaner at 0x000001962C8BC1F0>)),\n",
       "                ('svm', LinearSVC())])"
      ]
     },
     "execution_count": 27,
     "metadata": {},
     "output_type": "execute_result"
    }
   ],
   "source": [
    "# Training the model\n",
    "svcpipe.fit(X_train,y_train)"
   ]
  },
  {
   "cell_type": "code",
   "execution_count": 28,
   "id": "5e83c42c",
   "metadata": {},
   "outputs": [],
   "source": [
    "# Testing on the test dataset\n",
    "y_pred = svcpipe.predict(X_test)"
   ]
  },
  {
   "cell_type": "code",
   "execution_count": 29,
   "id": "d52af5ba",
   "metadata": {},
   "outputs": [
    {
     "name": "stdout",
     "output_type": "stream",
     "text": [
      "Accuracy: 0.7858407079646018\n",
      "Classification Report: \n",
      "              precision    recall  f1-score   support\n",
      "\n",
      "      Accept       0.74      0.60      0.66       395\n",
      "      Reject       0.80      0.89      0.84       735\n",
      "\n",
      "    accuracy                           0.79      1130\n",
      "   macro avg       0.77      0.74      0.75      1130\n",
      "weighted avg       0.78      0.79      0.78      1130\n",
      "\n",
      "Confusion Matrix: \n",
      "[[236 159]\n",
      " [ 83 652]]\n"
     ]
    },
    {
     "data": {
      "image/png": "[encoded data removed]",
      "text/plain": [
       "<Figure size 432x288 with 2 Axes>"
      ]
     },
     "metadata": {
      "needs_background": "light"
     },
     "output_type": "display_data"
    }
   ],
   "source": [
    "# Printing the metric of accuracy, precision, recall, f1, classification report and the confusion matrix\n",
    "print(\"Accuracy:\",accuracy_score(y_test, y_pred))\n",
    "print(\"Classification Report: \")\n",
    "print(classification_report(y_test,y_pred))\n",
    "print(\"Confusion Matrix: \")\n",
    "print(confusion_matrix(y_test,y_pred))\n",
    "\n",
    "ax = sns.heatmap(confusion_matrix(y_test,y_pred), annot=True, cmap='Blues')\n",
    "ax.set_title('Confusion Matrix\\n\\n');\n",
    "ax.set_xlabel('\\nPredicted Values')\n",
    "ax.set_ylabel('True Values ');\n",
    "\n",
    "## Display the visualization of the Confusion Matrix.\n",
    "plt.show()"
   ]
  },
  {
   "cell_type": "markdown",
   "id": "a6689366",
   "metadata": {},
   "source": [
    "## LinearSVC Result Test Examples"
   ]
  },
  {
   "cell_type": "code",
   "execution_count": 30,
   "id": "2d7ff90f",
   "metadata": {},
   "outputs": [
    {
     "data": {
      "text/plain": [
       "array(['Accept'], dtype=object)"
      ]
     },
     "execution_count": 30,
     "metadata": {},
     "output_type": "execute_result"
    }
   ],
   "source": [
    "# Testing some sentences from dataset's text that is Accept\n",
    "svcpipe.predict([\"Gaussian Process Behaviour in Wide Deep Neural Networks. Whilst deep neural networks have shown great empirical success, there is still much work to be done to understand their theoretical properties. In this paper, we study the relationship between Gaussian processes with a recursive kernel definition and random wide fully connected feedforward networks with more than one hidden layer. We exhibit limiting procedures under which finite deep networks will converge in distribution to the corresponding Gaussian process. To evaluate convergence rates empirically, we use maximum mean discrepancy. We then exhibit situations where existing Bayesian deep networks are close to Gaussian processes in terms of the key quantities of interest. Any Gaussian process has a flat representation. Since this behaviour may be undesirable in certain situations we discuss ways in which it might be prevented.. - Summary The paper is well written and proves how deep, wide, fully connected NNs are equivalent to GPs in the limit.\"])"
   ]
  },
  {
   "cell_type": "code",
   "execution_count": 31,
   "id": "938c0357",
   "metadata": {},
   "outputs": [
    {
     "data": {
      "text/plain": [
       "array(['Reject'], dtype=object)"
      ]
     },
     "execution_count": 31,
     "metadata": {},
     "output_type": "execute_result"
    }
   ],
   "source": [
    "# Testing some sentences from dataset's text that is Reject\n",
    "svcpipe.predict([\"Gradient Enrichment (MBPGE), is tested on a collection of benchmark tests including simulated robotic locomotion. We compare our approach to plain model-free algorithms and a model-based one. Our evaluation shows that MBPGE leads to higher learning rates in an early training stage and an improved asymptotic behaviour.. This paper focuses on model based reinforcement learning (RL). Specifically, the authors consider the setting of combining model based and model free RL algorithms by using the learned dynamics model to generate new data for training the model free algorithm. In order to capture the uncertainty of the environment and the model, the author applied Baysian neural network to learn the dynamics of the environment.\"])"
   ]
  },
  {
   "cell_type": "code",
   "execution_count": 32,
   "id": "59bba7cb",
   "metadata": {},
   "outputs": [
    {
     "data": {
      "text/plain": [
       "array(['Accept'], dtype=object)"
      ]
     },
     "execution_count": 32,
     "metadata": {},
     "output_type": "execute_result"
    }
   ],
   "source": [
    "# Testing the some sentences from dataset's text that is Accept\n",
    "svcpipe.predict([\"Multi-Agent Interactions Modeling with Correlated Policies. In multi-agent systems, complex interacting behaviors arise due to heavy correlations among agents. However, prior works on modeling multi-agent interactions from demonstrations have largely been constrained by assuming the independence among policies and their reward structures. In this paper, we cast the multi-agent interactions modeling problem into a multi-agent imitation learning framework with explicit modeling of correlated policies by approximating opponentsâ€™ policies. Consequently, we develop a Decentralized Adversarial Imitation Learning algorithm with Correlated policies (CoDAIL), which allows for decentralized training and execution.\"])"
   ]
  },
  {
   "cell_type": "markdown",
   "id": "0439f749",
   "metadata": {},
   "source": [
    "## LogisticRegression Evaluation"
   ]
  },
  {
   "cell_type": "code",
   "execution_count": 33,
   "id": "497ffce0",
   "metadata": {},
   "outputs": [],
   "source": [
    "# Use LogisticRegression creating the model and pipeline\n",
    "tfidf = TfidfVectorizer(tokenizer = textcleaner)\n",
    "lgr = LogisticRegression()\n",
    "\n",
    "lr = [('tfidf',tfidf),('clf', lgr)]\n",
    "lrpipe = Pipeline(lr)"
   ]
  },
  {
   "cell_type": "code",
   "execution_count": 34,
   "id": "08773296",
   "metadata": {},
   "outputs": [
    {
     "data": {
      "text/plain": [
       "Pipeline(steps=[('tfidf',\n",
       "                 TfidfVectorizer(tokenizer=<function textcleaner at 0x000001962C8BC1F0>)),\n",
       "                ('clf', LogisticRegression())])"
      ]
     },
     "execution_count": 34,
     "metadata": {},
     "output_type": "execute_result"
    }
   ],
   "source": [
    "# Training the model\n",
    "lrpipe.fit(X_train,y_train)"
   ]
  },
  {
   "cell_type": "code",
   "execution_count": 35,
   "id": "eb016866",
   "metadata": {},
   "outputs": [],
   "source": [
    "# Testing on the test dataset\n",
    "y_pred = lrpipe.predict(X_test)"
   ]
  },
  {
   "cell_type": "code",
   "execution_count": 36,
   "id": "3f21ac32",
   "metadata": {},
   "outputs": [
    {
     "name": "stdout",
     "output_type": "stream",
     "text": [
      "Accuracy: 0.7221238938053097\n",
      "Classification Report: \n",
      "              precision    recall  f1-score   support\n",
      "\n",
      "      Accept       0.79      0.28      0.41       395\n",
      "      Reject       0.71      0.96      0.82       735\n",
      "\n",
      "    accuracy                           0.72      1130\n",
      "   macro avg       0.75      0.62      0.62      1130\n",
      "weighted avg       0.74      0.72      0.68      1130\n",
      "\n",
      "Confusion Matrix: \n",
      "[[110 285]\n",
      " [ 29 706]]\n"
     ]
    },
    {
     "data": {
      "image/png": "[encoded data removed]",
      "text/plain": [
       "<Figure size 432x288 with 2 Axes>"
      ]
     },
     "metadata": {
      "needs_background": "light"
     },
     "output_type": "display_data"
    }
   ],
   "source": [
    "# Printing the metric of accuracy, precision, recall, f1, classification report and the confusion matrix\n",
    "print(\"Accuracy:\",accuracy_score(y_test, y_pred))\n",
    "print(\"Classification Report: \")\n",
    "print(classification_report(y_test,y_pred))\n",
    "print(\"Confusion Matrix: \")\n",
    "print(confusion_matrix(y_test,y_pred))\n",
    "\n",
    "ax = sns.heatmap(confusion_matrix(y_test,y_pred), annot=True, cmap='Blues')\n",
    "ax.set_title('Confusion Matrix\\n\\n');\n",
    "ax.set_xlabel('\\nPredicted Values')\n",
    "ax.set_ylabel('True Values ');\n",
    "\n",
    "## Display the visualization of the Confusion Matrix.\n",
    "plt.show()"
   ]
  },
  {
   "cell_type": "markdown",
   "id": "c1db1448",
   "metadata": {},
   "source": [
    "## LogisticRegression Result Test Examples"
   ]
  },
  {
   "cell_type": "code",
   "execution_count": 37,
   "id": "c544892f",
   "metadata": {},
   "outputs": [
    {
     "data": {
      "text/plain": [
       "array(['Accept'], dtype=object)"
      ]
     },
     "execution_count": 37,
     "metadata": {},
     "output_type": "execute_result"
    }
   ],
   "source": [
    "# Testing the some sentences from dataset's text that is Accept\n",
    "lrpipe.predict([\"Gaussian Process Behaviour in Wide Deep Neural Networks. Whilst deep neural networks have shown great empirical success, there is still much work to be done to understand their theoretical properties. In this paper, we study the relationship between Gaussian processes with a recursive kernel definition and random wide fully connected feedforward networks with more than one hidden layer. We exhibit limiting procedures under which finite deep networks will converge in distribution to the corresponding Gaussian process. To evaluate convergence rates empirically, we use maximum mean discrepancy. We then exhibit situations where existing Bayesian deep networks are close to Gaussian processes in terms of the key quantities of interest. Any Gaussian process has a flat representation. Since this behaviour may be undesirable in certain situations we discuss ways in which it might be prevented.. - Summary The paper is well written and proves how deep, wide, fully connected NNs are equivalent to GPs in the limit.\"])"
   ]
  },
  {
   "cell_type": "code",
   "execution_count": 38,
   "id": "77bbed8d",
   "metadata": {},
   "outputs": [
    {
     "data": {
      "text/plain": [
       "array(['Reject'], dtype=object)"
      ]
     },
     "execution_count": 38,
     "metadata": {},
     "output_type": "execute_result"
    }
   ],
   "source": [
    "# Testing the some sentences from dataset's text that is Reject\n",
    "lrpipe.predict([\"Gradient Enrichment (MBPGE), is tested on a collection of benchmark tests including simulated robotic locomotion. We compare our approach to plain model-free algorithms and a model-based one. Our evaluation shows that MBPGE leads to higher learning rates in an early training stage and an improved asymptotic behaviour.. This paper focuses on model based reinforcement learning (RL). Specifically, the authors consider the setting of combining model based and model free RL algorithms by using the learned dynamics model to generate new data for training the model free algorithm. In order to capture the uncertainty of the environment and the model, the author applied Baysian neural network to learn the dynamics of the environment.\"])"
   ]
  },
  {
   "cell_type": "code",
   "execution_count": 39,
   "id": "1d543d87",
   "metadata": {},
   "outputs": [
    {
     "data": {
      "text/plain": [
       "array(['Accept'], dtype=object)"
      ]
     },
     "execution_count": 39,
     "metadata": {},
     "output_type": "execute_result"
    }
   ],
   "source": [
    "# Testing the some sentences from dataset's text that is Accept\n",
    "lrpipe.predict([\"Multi-Agent Interactions Modeling with Correlated Policies. In multi-agent systems, complex interacting behaviors arise due to heavy correlations among agents. However, prior works on modeling multi-agent interactions from demonstrations have largely been constrained by assuming the independence among policies and their reward structures. In this paper, we cast the multi-agent interactions modeling problem into a multi-agent imitation learning framework with explicit modeling of correlated policies by approximating opponentsâ€™ policies. Consequently, we develop a Decentralized Adversarial Imitation Learning algorithm with Correlated policies (CoDAIL), which allows for decentralized training and execution.\"])"
   ]
  },
  {
   "cell_type": "markdown",
   "id": "a2ee498f",
   "metadata": {},
   "source": [
    "# 3. Multiclass Classification to Implement Review Score"
   ]
  },
  {
   "cell_type": "markdown",
   "id": "d9872e26",
   "metadata": {},
   "source": [
    "## Data Cleaning and Preperation"
   ]
  },
  {
   "cell_type": "code",
   "execution_count": 40,
   "id": "93b84409",
   "metadata": {},
   "outputs": [
    {
     "data": {
      "text/html": [
       "<div>\n",
       "<style scoped>\n",
       "    .dataframe tbody tr th:only-of-type {\n",
       "        vertical-align: middle;\n",
       "    }\n",
       "\n",
       "    .dataframe tbody tr th {\n",
       "        vertical-align: top;\n",
       "    }\n",
       "\n",
       "    .dataframe thead th {\n",
       "        text-align: right;\n",
       "    }\n",
       "</style>\n",
       "<table border=\"1\" class=\"dataframe\">\n",
       "  <thead>\n",
       "    <tr style=\"text-align: right;\">\n",
       "      <th></th>\n",
       "      <th>text</th>\n",
       "      <th>review_score</th>\n",
       "      <th>acceptance_status</th>\n",
       "    </tr>\n",
       "  </thead>\n",
       "  <tbody>\n",
       "    <tr>\n",
       "      <th>0</th>\n",
       "      <td>Predicting Medications from Diagnostic Codes w...</td>\n",
       "      <td>6.0</td>\n",
       "      <td>Accept</td>\n",
       "    </tr>\n",
       "    <tr>\n",
       "      <th>1</th>\n",
       "      <td>Unrestricted Adversarial Examples via Semantic...</td>\n",
       "      <td>6.0</td>\n",
       "      <td>Accept</td>\n",
       "    </tr>\n",
       "    <tr>\n",
       "      <th>2</th>\n",
       "      <td>#. #. #. #</td>\n",
       "      <td>6.0</td>\n",
       "      <td>Accept</td>\n",
       "    </tr>\n",
       "    <tr>\n",
       "      <th>3</th>\n",
       "      <td>Sufficient Conditions for Robustness to Advers...</td>\n",
       "      <td>5.0</td>\n",
       "      <td>Reject</td>\n",
       "    </tr>\n",
       "    <tr>\n",
       "      <th>4</th>\n",
       "      <td>Unsupervised Learning of the Set of Local Maxi...</td>\n",
       "      <td>8.0</td>\n",
       "      <td>Accept</td>\n",
       "    </tr>\n",
       "  </tbody>\n",
       "</table>\n",
       "</div>"
      ],
      "text/plain": [
       "                                                text  review_score  \\\n",
       "0  Predicting Medications from Diagnostic Codes w...           6.0   \n",
       "1  Unrestricted Adversarial Examples via Semantic...           6.0   \n",
       "2                                         #. #. #. #           6.0   \n",
       "3  Sufficient Conditions for Robustness to Advers...           5.0   \n",
       "4  Unsupervised Learning of the Set of Local Maxi...           8.0   \n",
       "\n",
       "  acceptance_status  \n",
       "0            Accept  \n",
       "1            Accept  \n",
       "2            Accept  \n",
       "3            Reject  \n",
       "4            Accept  "
      ]
     },
     "execution_count": 40,
     "metadata": {},
     "output_type": "execute_result"
    }
   ],
   "source": [
    "# Take the three main features for the data preperation\n",
    "DT2 = PRW[[\"text\", \"review_score\", \"acceptance_status\"]]\n",
    "DT2.head()"
   ]
  },
  {
   "cell_type": "code",
   "execution_count": 41,
   "id": "38217ceb",
   "metadata": {},
   "outputs": [
    {
     "name": "stdout",
     "output_type": "stream",
     "text": [
      "(6119, 3)\n"
     ]
    },
    {
     "data": {
      "text/plain": [
       " 6.0     1566\n",
       " 3.0     1410\n",
       " 5.0      630\n",
       " 7.0      627\n",
       " 4.0      623\n",
       " 8.0      504\n",
       " 1.0      463\n",
       "-1.0      169\n",
       " 9.0       62\n",
       " 2.0       62\n",
       " 10.0       3\n",
       "Name: review_score, dtype: int64"
      ]
     },
     "execution_count": 41,
     "metadata": {},
     "output_type": "execute_result"
    }
   ],
   "source": [
    "# Check the shape of data\n",
    "print(DT2.shape)\n",
    "\n",
    "# Check the different value amount in review_score\n",
    "DT2['review_score'].value_counts()"
   ]
  },
  {
   "cell_type": "code",
   "execution_count": 42,
   "id": "425200b4",
   "metadata": {},
   "outputs": [
    {
     "name": "stdout",
     "output_type": "stream",
     "text": [
      "Class Distribution:\n",
      " 6.0     0.255924\n",
      " 3.0     0.230430\n",
      " 5.0     0.102958\n",
      " 7.0     0.102468\n",
      " 4.0     0.101814\n",
      " 8.0     0.082366\n",
      " 1.0     0.075666\n",
      "-1.0     0.027619\n",
      " 9.0     0.010132\n",
      " 2.0     0.010132\n",
      " 10.0    0.000490\n",
      "Name: review_score, dtype: float64\n"
     ]
    }
   ],
   "source": [
    "# Check the percentage of each value take space in the whole data\n",
    "print(\"Class Distribution:\")\n",
    "print(DT2[\"review_score\"].value_counts() / len(DT2[\"review_score\"]))"
   ]
  },
  {
   "cell_type": "code",
   "execution_count": 43,
   "id": "46aa0359",
   "metadata": {},
   "outputs": [
    {
     "data": {
      "text/html": [
       "<div>\n",
       "<style scoped>\n",
       "    .dataframe tbody tr th:only-of-type {\n",
       "        vertical-align: middle;\n",
       "    }\n",
       "\n",
       "    .dataframe tbody tr th {\n",
       "        vertical-align: top;\n",
       "    }\n",
       "\n",
       "    .dataframe thead th {\n",
       "        text-align: right;\n",
       "    }\n",
       "</style>\n",
       "<table border=\"1\" class=\"dataframe\">\n",
       "  <thead>\n",
       "    <tr style=\"text-align: right;\">\n",
       "      <th></th>\n",
       "      <th>text</th>\n",
       "      <th>review_score</th>\n",
       "      <th>acceptance_status</th>\n",
       "    </tr>\n",
       "  </thead>\n",
       "  <tbody>\n",
       "    <tr>\n",
       "      <th>23</th>\n",
       "      <td>iWGAN: an Autoencoder WGAN for Inference. Gene...</td>\n",
       "      <td>-1.0</td>\n",
       "      <td>Reject</td>\n",
       "    </tr>\n",
       "    <tr>\n",
       "      <th>96</th>\n",
       "      <td>VECTORIZATION METHODS IN RECOMMENDER SYSTEM. T...</td>\n",
       "      <td>-1.0</td>\n",
       "      <td>Reject</td>\n",
       "    </tr>\n",
       "    <tr>\n",
       "      <th>160</th>\n",
       "      <td>Recovering the Lowest Layer of Deep Networks w...</td>\n",
       "      <td>-1.0</td>\n",
       "      <td>Reject</td>\n",
       "    </tr>\n",
       "    <tr>\n",
       "      <th>162</th>\n",
       "      <td>Learning Features of Music From Scratch. This ...</td>\n",
       "      <td>-1.0</td>\n",
       "      <td>Accept</td>\n",
       "    </tr>\n",
       "    <tr>\n",
       "      <th>169</th>\n",
       "      <td>Distilled embedding: non-linear embedding fact...</td>\n",
       "      <td>-1.0</td>\n",
       "      <td>Reject</td>\n",
       "    </tr>\n",
       "    <tr>\n",
       "      <th>...</th>\n",
       "      <td>...</td>\n",
       "      <td>...</td>\n",
       "      <td>...</td>\n",
       "    </tr>\n",
       "    <tr>\n",
       "      <th>5977</th>\n",
       "      <td>Beyond Winning and Losing: Modeling Human Moti...</td>\n",
       "      <td>-1.0</td>\n",
       "      <td>Reject</td>\n",
       "    </tr>\n",
       "    <tr>\n",
       "      <th>6017</th>\n",
       "      <td>UNSUPERVISED MONOCULAR DEPTH ESTIMATION WITH C...</td>\n",
       "      <td>-1.0</td>\n",
       "      <td>Reject</td>\n",
       "    </tr>\n",
       "    <tr>\n",
       "      <th>6024</th>\n",
       "      <td>And the Bit Goes Down: Revisiting the Quantiza...</td>\n",
       "      <td>-1.0</td>\n",
       "      <td>NaN</td>\n",
       "    </tr>\n",
       "    <tr>\n",
       "      <th>6027</th>\n",
       "      <td>AdaGAN: Adaptive GAN for Many-to-Many Non-Para...</td>\n",
       "      <td>-1.0</td>\n",
       "      <td>Reject</td>\n",
       "    </tr>\n",
       "    <tr>\n",
       "      <th>6105</th>\n",
       "      <td>Learning Neuron Non-Linearities with Kernel-Ba...</td>\n",
       "      <td>-1.0</td>\n",
       "      <td>Reject</td>\n",
       "    </tr>\n",
       "  </tbody>\n",
       "</table>\n",
       "<p>169 rows × 3 columns</p>\n",
       "</div>"
      ],
      "text/plain": [
       "                                                   text  review_score  \\\n",
       "23    iWGAN: an Autoencoder WGAN for Inference. Gene...          -1.0   \n",
       "96    VECTORIZATION METHODS IN RECOMMENDER SYSTEM. T...          -1.0   \n",
       "160   Recovering the Lowest Layer of Deep Networks w...          -1.0   \n",
       "162   Learning Features of Music From Scratch. This ...          -1.0   \n",
       "169   Distilled embedding: non-linear embedding fact...          -1.0   \n",
       "...                                                 ...           ...   \n",
       "5977  Beyond Winning and Losing: Modeling Human Moti...          -1.0   \n",
       "6017  UNSUPERVISED MONOCULAR DEPTH ESTIMATION WITH C...          -1.0   \n",
       "6024  And the Bit Goes Down: Revisiting the Quantiza...          -1.0   \n",
       "6027  AdaGAN: Adaptive GAN for Many-to-Many Non-Para...          -1.0   \n",
       "6105  Learning Neuron Non-Linearities with Kernel-Ba...          -1.0   \n",
       "\n",
       "     acceptance_status  \n",
       "23              Reject  \n",
       "96              Reject  \n",
       "160             Reject  \n",
       "162             Accept  \n",
       "169             Reject  \n",
       "...                ...  \n",
       "5977            Reject  \n",
       "6017            Reject  \n",
       "6024               NaN  \n",
       "6027            Reject  \n",
       "6105            Reject  \n",
       "\n",
       "[169 rows x 3 columns]"
      ]
     },
     "execution_count": 43,
     "metadata": {},
     "output_type": "execute_result"
    }
   ],
   "source": [
    "# Based on the requirement, there shouldn't have the review_score value of -1\n",
    "# Before make the decision on this value, check the detail on all -1 values\n",
    "DT2.loc[DT2['review_score'] == -1]"
   ]
  },
  {
   "cell_type": "code",
   "execution_count": 44,
   "id": "077153a0",
   "metadata": {},
   "outputs": [
    {
     "name": "stderr",
     "output_type": "stream",
     "text": [
      "C:\\Users\\Soraneat\\anaconda3\\envs\\COMP1832_Lab\\lib\\site-packages\\pandas\\core\\frame.py:4906: SettingWithCopyWarning: \n",
      "A value is trying to be set on a copy of a slice from a DataFrame\n",
      "\n",
      "See the caveats in the documentation: https://pandas.pydata.org/pandas-docs/stable/user_guide/indexing.html#returning-a-view-versus-a-copy\n",
      "  return super().drop(\n"
     ]
    },
    {
     "data": {
      "text/plain": [
       "(5950, 3)"
      ]
     },
     "execution_count": 44,
     "metadata": {},
     "output_type": "execute_result"
    }
   ],
   "source": [
    "# According to the information from the study above, the -1 values just stand less amount in entire data\n",
    "# And then, most of its information is rejected in acceptance_status\n",
    "# Therefore, it possible to drop the -1 value from the data\n",
    "DT2.drop(DT2[DT2['review_score'] == -1].index, inplace = True)\n",
    "# Display the shape of the data after dropping -1 values\n",
    "DT2.shape"
   ]
  },
  {
   "cell_type": "code",
   "execution_count": 45,
   "id": "d991ca57",
   "metadata": {},
   "outputs": [
    {
     "data": {
      "text/html": [
       "<div>\n",
       "<style scoped>\n",
       "    .dataframe tbody tr th:only-of-type {\n",
       "        vertical-align: middle;\n",
       "    }\n",
       "\n",
       "    .dataframe tbody tr th {\n",
       "        vertical-align: top;\n",
       "    }\n",
       "\n",
       "    .dataframe thead th {\n",
       "        text-align: right;\n",
       "    }\n",
       "</style>\n",
       "<table border=\"1\" class=\"dataframe\">\n",
       "  <thead>\n",
       "    <tr style=\"text-align: right;\">\n",
       "      <th></th>\n",
       "      <th>text</th>\n",
       "      <th>review_score</th>\n",
       "    </tr>\n",
       "  </thead>\n",
       "  <tbody>\n",
       "    <tr>\n",
       "      <th>0</th>\n",
       "      <td>Predicting Medications from Diagnostic Codes w...</td>\n",
       "      <td>6.0</td>\n",
       "    </tr>\n",
       "    <tr>\n",
       "      <th>1</th>\n",
       "      <td>Unrestricted Adversarial Examples via Semantic...</td>\n",
       "      <td>6.0</td>\n",
       "    </tr>\n",
       "    <tr>\n",
       "      <th>2</th>\n",
       "      <td>#. #. #. #</td>\n",
       "      <td>6.0</td>\n",
       "    </tr>\n",
       "    <tr>\n",
       "      <th>3</th>\n",
       "      <td>Sufficient Conditions for Robustness to Advers...</td>\n",
       "      <td>5.0</td>\n",
       "    </tr>\n",
       "    <tr>\n",
       "      <th>4</th>\n",
       "      <td>Unsupervised Learning of the Set of Local Maxi...</td>\n",
       "      <td>8.0</td>\n",
       "    </tr>\n",
       "  </tbody>\n",
       "</table>\n",
       "</div>"
      ],
      "text/plain": [
       "                                                text  review_score\n",
       "0  Predicting Medications from Diagnostic Codes w...           6.0\n",
       "1  Unrestricted Adversarial Examples via Semantic...           6.0\n",
       "2                                         #. #. #. #           6.0\n",
       "3  Sufficient Conditions for Robustness to Advers...           5.0\n",
       "4  Unsupervised Learning of the Set of Local Maxi...           8.0"
      ]
     },
     "execution_count": 45,
     "metadata": {},
     "output_type": "execute_result"
    }
   ],
   "source": [
    "# Take the two main features for this stage implementation\n",
    "DT2=DT2[[\"text\", \"review_score\"]]\n",
    "DT2.head()"
   ]
  },
  {
   "cell_type": "code",
   "execution_count": 46,
   "id": "5eb4c6fd",
   "metadata": {},
   "outputs": [
    {
     "data": {
      "text/plain": [
       "text            83\n",
       "review_score     0\n",
       "dtype: int64"
      ]
     },
     "execution_count": 46,
     "metadata": {},
     "output_type": "execute_result"
    }
   ],
   "source": [
    "# Check if there any null value (Missing value)\n",
    "DT2.isnull().sum()"
   ]
  },
  {
   "cell_type": "code",
   "execution_count": 47,
   "id": "e6a21537",
   "metadata": {},
   "outputs": [
    {
     "data": {
      "text/html": [
       "<div>\n",
       "<style scoped>\n",
       "    .dataframe tbody tr th:only-of-type {\n",
       "        vertical-align: middle;\n",
       "    }\n",
       "\n",
       "    .dataframe tbody tr th {\n",
       "        vertical-align: top;\n",
       "    }\n",
       "\n",
       "    .dataframe thead th {\n",
       "        text-align: right;\n",
       "    }\n",
       "</style>\n",
       "<table border=\"1\" class=\"dataframe\">\n",
       "  <thead>\n",
       "    <tr style=\"text-align: right;\">\n",
       "      <th></th>\n",
       "      <th>text</th>\n",
       "      <th>review_score</th>\n",
       "    </tr>\n",
       "  </thead>\n",
       "  <tbody>\n",
       "    <tr>\n",
       "      <th>241</th>\n",
       "      <td>NaN</td>\n",
       "      <td>3.0</td>\n",
       "    </tr>\n",
       "    <tr>\n",
       "      <th>395</th>\n",
       "      <td>NaN</td>\n",
       "      <td>3.0</td>\n",
       "    </tr>\n",
       "    <tr>\n",
       "      <th>455</th>\n",
       "      <td>NaN</td>\n",
       "      <td>7.0</td>\n",
       "    </tr>\n",
       "    <tr>\n",
       "      <th>575</th>\n",
       "      <td>NaN</td>\n",
       "      <td>6.0</td>\n",
       "    </tr>\n",
       "    <tr>\n",
       "      <th>581</th>\n",
       "      <td>NaN</td>\n",
       "      <td>6.0</td>\n",
       "    </tr>\n",
       "    <tr>\n",
       "      <th>...</th>\n",
       "      <td>...</td>\n",
       "      <td>...</td>\n",
       "    </tr>\n",
       "    <tr>\n",
       "      <th>5670</th>\n",
       "      <td>NaN</td>\n",
       "      <td>1.0</td>\n",
       "    </tr>\n",
       "    <tr>\n",
       "      <th>5674</th>\n",
       "      <td>NaN</td>\n",
       "      <td>7.0</td>\n",
       "    </tr>\n",
       "    <tr>\n",
       "      <th>5711</th>\n",
       "      <td>NaN</td>\n",
       "      <td>6.0</td>\n",
       "    </tr>\n",
       "    <tr>\n",
       "      <th>5827</th>\n",
       "      <td>NaN</td>\n",
       "      <td>5.0</td>\n",
       "    </tr>\n",
       "    <tr>\n",
       "      <th>5983</th>\n",
       "      <td>NaN</td>\n",
       "      <td>7.0</td>\n",
       "    </tr>\n",
       "  </tbody>\n",
       "</table>\n",
       "<p>83 rows × 2 columns</p>\n",
       "</div>"
      ],
      "text/plain": [
       "     text  review_score\n",
       "241   NaN           3.0\n",
       "395   NaN           3.0\n",
       "455   NaN           7.0\n",
       "575   NaN           6.0\n",
       "581   NaN           6.0\n",
       "...   ...           ...\n",
       "5670  NaN           1.0\n",
       "5674  NaN           7.0\n",
       "5711  NaN           6.0\n",
       "5827  NaN           5.0\n",
       "5983  NaN           7.0\n",
       "\n",
       "[83 rows x 2 columns]"
      ]
     },
     "execution_count": 47,
     "metadata": {},
     "output_type": "execute_result"
    }
   ],
   "source": [
    "# Check and Display the missing value\n",
    "NDT2 = DT2[DT2.isnull().any(axis=1)]\n",
    "NDT2"
   ]
  },
  {
   "cell_type": "code",
   "execution_count": 48,
   "id": "09e734a7",
   "metadata": {},
   "outputs": [
    {
     "name": "stdout",
     "output_type": "stream",
     "text": [
      "                                                   text  review_score\n",
      "0     Predicting Medications from Diagnostic Codes w...           6.0\n",
      "1     Unrestricted Adversarial Examples via Semantic...           6.0\n",
      "2                                            #. #. #. #           6.0\n",
      "3     Sufficient Conditions for Robustness to Advers...           5.0\n",
      "4     Unsupervised Learning of the Set of Local Maxi...           8.0\n",
      "...                                                 ...           ...\n",
      "6114  PixelNN: Example-based Image Synthesis. We pre...           7.0\n",
      "6115  Wasserstein Robust Reinforcement Learning. Rei...           3.0\n",
      "6116  Learning to Augment Influential Data. Data aug...           6.0\n",
      "6117  The Incredible Shrinking Neural Network: New P...           3.0\n",
      "6118  Pre-trained Contextual Embedding of Source Cod...           6.0\n",
      "\n",
      "[5867 rows x 2 columns]\n"
     ]
    }
   ],
   "source": [
    "# Drop all the missing value\n",
    "DT2 = DT2.dropna()\n",
    "# Display the final data that use for the next step\n",
    "print(DT2)"
   ]
  },
  {
   "cell_type": "markdown",
   "id": "dc05a5b4",
   "metadata": {},
   "source": [
    "## Text Preprocessing"
   ]
  },
  {
   "cell_type": "code",
   "execution_count": 49,
   "id": "ae4e3bfa",
   "metadata": {},
   "outputs": [],
   "source": [
    "# Load the english pipeline\n",
    "nlp = en_core_web_sm.load()"
   ]
  },
  {
   "cell_type": "code",
   "execution_count": 50,
   "id": "24c34657",
   "metadata": {},
   "outputs": [
    {
     "name": "stdout",
     "output_type": "stream",
     "text": [
      "['wherein', 'really', 'any', 'among', 'thus', 'becomes', 'cannot', 'all', 'upon', 'been', 'latter', 'below', 'again', 'enough', 'former', 'off', 'nowhere', 'doing', 'hundred', 'see', 'had', 'my', 'may', 'whole', '’m', 'yours', 'never', 'give', 'the', 'except', 'otherwise', 'everything', 'in', 'moreover', 'until', 'under', 'whence', 'must', 'most', 'first', 'none', 'would', 'could', 'four', 'you', 'beyond', 'onto', 'beside', 'seeming', 'his', 'do', 'noone', 'but', 'anyhow', 'are', 'he', 'us', 'such', 'were', 'when', 'herein', 'therefore', 'a', 'not', 'twenty', 'everyone', 'since', 'she', 'often', 'then', '‘ve', 'is', 'nevertheless', 'although', 'became', 'more', 'if', 'nobody', 'made', 'ca', 'at', 'both', 'keep', 'might', 'very', 'what', 'full', 'some', 'much', 'call', 'anyway', 'once', 'get', '‘re', 'throughout', 'together', 'towards', 'sixty', 'empty', 'than', 'something', 'where', 'up', 'these', 'seems', 'amount', 'him', 'seemed', 'please', 'another', 'with', 'hers', 'so', 'still', 'has', 'without', 'few', 'through', 'its', 'behind', 'have', 'be', 'ours', 'did', 'others', 'meanwhile', '’s', 'move', 'while', 'make', 'further', 'now', 'each', \"'ve\", 'and', 'as', 'every', 'toward', 'between', \"'d\", 'i', '‘ll', 'no', 'front', 'neither', 'yourselves', 'was', 'thereafter', 'done', 'put', 'other', 'am', 'say', 'next', 'within', 'before', 'last', 'regarding', 'whenever', 'formerly', 'too', 'eight', 'just', 'even', 'anywhere', 'top', 'itself', 'across', 'herself', 'indeed', 'hence', 'of', 'himself', 'ever', 'nine', 'per', 'this', '’d', 'over', 'six', 'thereby', 'serious', 'yourself', 'besides', 'various', 'everywhere', 'our', 'whoever', 'forty', 'back', 'many', 'three', 'go', 'me', 'namely', 'elsewhere', 'wherever', 'yet', 'nor', 'become', 'latterly', 'becoming', 'whose', 'less', 'mostly', 'take', '’ve', '‘d', 'alone', 'hereafter', 'into', 'out', 'for', 'themselves', 'though', 'bottom', 'should', 'we', 'hereupon', 'same', 'fifty', 'afterwards', 'down', 'after', 'unless', 'whatever', 'almost', 'whether', 'who', 'quite', 'whereafter', 'seem', 'her', 'your', 'myself', 'rather', 'whereas', 'that', 'why', 'well', 'own', 'them', \"'m\", 'how', 'being', 'somewhere', '’re', 'above', 'those', 'by', 'only', 'can', 'thereupon', \"'ll\", 'n‘t', 'else', 'someone', 'ten', 'side', 'hereby', '‘s', 'whom', 'third', 'beforehand', 'it', 'part', \"n't\", 'because', 'around', 'sometimes', 'eleven', 'perhaps', 'five', 'against', 'one', 'either', 'they', '‘m', 'an', 'thru', 'along', 'about', 'fifteen', 'also', 'always', '’ll', 'their', 'mine', 'using', 'already', 'twelve', 'thence', 'will', 'during', 'however', 'anyone', 'nothing', \"'re\", 'therein', 'via', 'due', 'or', 'n’t', 'two', 'whereupon', \"'s\", 'does', 'to', 'show', 'somehow', 'used', 'which', 'least', 'anything', 'name', 'ourselves', 'here', 'from', 'sometime', 'there', 're', 'whereby', 'on', 'several', 'whither', 'amongst']\n"
     ]
    }
   ],
   "source": [
    "# Get and Display all the stopwords\n",
    "stopwords = list(STOP_WORDS)\n",
    "print(stopwords)"
   ]
  },
  {
   "cell_type": "code",
   "execution_count": 51,
   "id": "ec5adb3b",
   "metadata": {},
   "outputs": [
    {
     "name": "stdout",
     "output_type": "stream",
     "text": [
      "!\"#$%&'()*+,-./:;<=>?@[\\]^_`{|}~\n"
     ]
    }
   ],
   "source": [
    "# Get and Display the punctuation\n",
    "punct = string.punctuation\n",
    "print(punct)"
   ]
  },
  {
   "cell_type": "code",
   "execution_count": 52,
   "id": "766a469e",
   "metadata": {},
   "outputs": [],
   "source": [
    "# Function for the text cleaning\n",
    "def textcleaner(phrase):\n",
    "  t = nlp(phrase)\n",
    "  tokens = []\n",
    "  for token in t:\n",
    "    if token.lemma_ != '-PRON-':\n",
    "      temp = token.lemma_.lower().strip()\n",
    "    else:\n",
    "      temp = token.lower_\n",
    "    tokens.append(temp)\n",
    "  clean_text = []\n",
    "  for token in tokens:\n",
    "    if token not in punct and token not in stopwords:\n",
    "      clean_text.append(token)\n",
    "  return clean_text"
   ]
  },
  {
   "cell_type": "code",
   "execution_count": 53,
   "id": "147d958e",
   "metadata": {},
   "outputs": [
    {
     "data": {
      "text/plain": [
       "['test', 'text_cleaner']"
      ]
     },
     "execution_count": 53,
     "metadata": {},
     "output_type": "execute_result"
    }
   ],
   "source": [
    "# Test example for the textcleaner function\n",
    "textcleaner(\"This the another test for the text_cleaner.\")"
   ]
  },
  {
   "cell_type": "markdown",
   "id": "0a1224e2",
   "metadata": {},
   "source": [
    "## Split Data"
   ]
  },
  {
   "cell_type": "code",
   "execution_count": 54,
   "id": "a12ae632",
   "metadata": {},
   "outputs": [
    {
     "name": "stdout",
     "output_type": "stream",
     "text": [
      "X_train shape:  (4693,)\n",
      "X_test shape:  (1174,)\n",
      "Y_train shape:  (4693,)\n",
      "Y_test shape:  (1174,)\n"
     ]
    }
   ],
   "source": [
    "# Spillting the train and test data\n",
    "X = DT2['text']\n",
    "y = DT2['review_score']\n",
    "\n",
    "X_train, X_test, y_train, y_test = train_test_split(X, y, test_size = 0.2)\n",
    "\n",
    "# Display the shape of each train and test data\n",
    "print(\"X_train shape: \",X_train.shape)\n",
    "print(\"X_test shape: \",X_test.shape)\n",
    "print(\"Y_train shape: \",y_train.shape)\n",
    "print(\"Y_test shape: \",y_test.shape)"
   ]
  },
  {
   "cell_type": "markdown",
   "id": "5868a564",
   "metadata": {},
   "source": [
    "## LinearSVC Evalaution"
   ]
  },
  {
   "cell_type": "code",
   "execution_count": 55,
   "id": "321409fd",
   "metadata": {},
   "outputs": [],
   "source": [
    "# Use Linear SVC creating the model and pipeline\n",
    "tfidf = TfidfVectorizer(tokenizer = textcleaner)\n",
    "svm = LinearSVC()\n",
    "\n",
    "svc1 = [('tfidf',tfidf),('svm',svm)]\n",
    "svcpipe1 = Pipeline(svc1)"
   ]
  },
  {
   "cell_type": "code",
   "execution_count": 56,
   "id": "8b7b2a14",
   "metadata": {},
   "outputs": [
    {
     "data": {
      "text/plain": [
       "Pipeline(steps=[('tfidf',\n",
       "                 TfidfVectorizer(tokenizer=<function textcleaner at 0x000001962C88D700>)),\n",
       "                ('svm', LinearSVC())])"
      ]
     },
     "execution_count": 56,
     "metadata": {},
     "output_type": "execute_result"
    }
   ],
   "source": [
    "# Training the model\n",
    "svcpipe1.fit(X_train,y_train)"
   ]
  },
  {
   "cell_type": "code",
   "execution_count": 57,
   "id": "df4b982b",
   "metadata": {},
   "outputs": [],
   "source": [
    "# Testing on the test dataset\n",
    "y_pred = svcpipe1.predict(X_test)"
   ]
  },
  {
   "cell_type": "code",
   "execution_count": 58,
   "id": "ba64ec33",
   "metadata": {},
   "outputs": [
    {
     "name": "stdout",
     "output_type": "stream",
     "text": [
      "Accuracy: 0.35008517887563884\n",
      "Classification Report: \n",
      "              precision    recall  f1-score   support\n",
      "\n",
      "         1.0       0.34      0.19      0.24        90\n",
      "         2.0       0.33      0.07      0.11        15\n",
      "         3.0       0.41      0.50      0.45       289\n",
      "         4.0       0.31      0.28      0.29       122\n",
      "         5.0       0.22      0.15      0.18       132\n",
      "         6.0       0.36      0.50      0.42       290\n",
      "         7.0       0.33      0.27      0.30       114\n",
      "         8.0       0.27      0.18      0.21       106\n",
      "         9.0       0.33      0.06      0.11        16\n",
      "\n",
      "    accuracy                           0.35      1174\n",
      "   macro avg       0.32      0.24      0.26      1174\n",
      "weighted avg       0.34      0.35      0.33      1174\n",
      "\n",
      "Confusion Matrix: \n",
      "[[ 17   0  47   5   2  15   1   3   0]\n",
      " [  0   1   2   5   3   2   2   0   0]\n",
      " [ 18   1 144  14  13  77  10  12   0]\n",
      " [  1   1  33  34  18  25   8   2   0]\n",
      " [  5   0  25  23  20  42  14   3   0]\n",
      " [  7   0  61  18  17 144  19  22   2]\n",
      " [  0   0  11   9  12  45  31   6   0]\n",
      " [  2   0  22   2   6  47   8  19   0]\n",
      " [  0   0   2   1   0   6   2   4   1]]\n"
     ]
    },
    {
     "data": {
      "image/png": "[encoded data removed]",
      "text/plain": [
       "<Figure size 432x288 with 2 Axes>"
      ]
     },
     "metadata": {
      "needs_background": "light"
     },
     "output_type": "display_data"
    }
   ],
   "source": [
    "# Printing the metric of accuracy, precision, recall, f1, classification report and the confusion matrix\n",
    "print(\"Accuracy:\",accuracy_score(y_test, y_pred))\n",
    "print(\"Classification Report: \")\n",
    "print(classification_report(y_test,y_pred))\n",
    "print(\"Confusion Matrix: \")\n",
    "print(confusion_matrix(y_test,y_pred))\n",
    "\n",
    "ax = sns.heatmap(confusion_matrix(y_test,y_pred), annot=True, cmap='Blues')\n",
    "ax.set_title('Confusion Matrix\\n\\n');\n",
    "ax.set_xlabel('\\nPredicted Values')\n",
    "ax.set_ylabel('True Values ');\n",
    "\n",
    "## Display the visualization of the Confusion Matrix.\n",
    "plt.show()"
   ]
  },
  {
   "cell_type": "markdown",
   "id": "45e76971",
   "metadata": {},
   "source": [
    "## LinearSVC Result Test Examples"
   ]
  },
  {
   "cell_type": "code",
   "execution_count": 59,
   "id": "b527880b",
   "metadata": {},
   "outputs": [
    {
     "data": {
      "text/plain": [
       "array([9.])"
      ]
     },
     "execution_count": 59,
     "metadata": {},
     "output_type": "execute_result"
    }
   ],
   "source": [
    "# Testing some sentences from dataset's text that review score is 10\n",
    "svcpipe1.predict([\"GENERATING HIGH FIDELITY IMAGES WITH SUBSCALE PIXEL NETWORKS AND MULTIDIMENSIONAL UPSCALING. The unconditional generation of high fidelity images is a longstanding benchmark for testing the performance of image decoders. Autoregressive image models have been able to generate small images unconditionally, but the extension of these methods to large images where fidelity can be more readily assessed has remained an open problem. Among the major challenges are the capacity to encode the vast previous context and the sheer difficulty of learning a distribution that preserves both global semantic coherence and exactness of detail. To address the former challenge, we propose the Subscale Pixel Network (SPN), a conditional decoder architecture that generates an image as a sequence of image slices of equal size. The SPN compactly captures image-wide spatial dependencies and requires a fraction of the memory and the computation.\"])"
   ]
  },
  {
   "cell_type": "code",
   "execution_count": 60,
   "id": "64bb522f",
   "metadata": {},
   "outputs": [
    {
     "data": {
      "text/plain": [
       "array([6.])"
      ]
     },
     "execution_count": 60,
     "metadata": {},
     "output_type": "execute_result"
    }
   ],
   "source": [
    "# Testing some sentences from dataset's text that review score is 6\n",
    "svcpipe1.predict([\"Espresso: Efficient Forward Propagation for Binary Deep Neural Networks. There are many applications scenarios for which the computational performance and memory footprint of the prediction phase of Deep Neural Networks (DNNs) need to be optimized. Binary Deep Neural Networks (BDNNs) have been shown to be an effective way of achieving this objective. In this paper, we show how Convolutional Neural Networks (CNNs) can be implemented using binary representations. Espresso is a compact, yet powerful library written in C/CUDA that features all the functionalities required for the forward propagation of CNNs, in a binary file less than 400KB, without any external dependencies. Although it is mainly designed to take advantage of massive GPU parallelism, Espresso also provides an equivalent CPU implementation for CNNs. Espresso provides special convolutional and dense layers for BCNNs, leveraging bit-packing and bit-wise computations for efficient execution.\"])"
   ]
  },
  {
   "cell_type": "code",
   "execution_count": 61,
   "id": "8075d5ed",
   "metadata": {},
   "outputs": [
    {
     "data": {
      "text/plain": [
       "array([1.])"
      ]
     },
     "execution_count": 61,
     "metadata": {},
     "output_type": "execute_result"
    }
   ],
   "source": [
    "# Testing some sentences from dataset's text that review score is 1\n",
    "svcpipe1.predict([\"Equation 4. How is s_t sampled? 4. Section 4 questions a. 4.1 says discriminator â€œmaximizes the divergenceâ€. This doesnâ€™t seem correct. b. f is referred to as state-value. This doesnâ€™t seem correct. c. Shouldnâ€™t the -1 term in Equation 8 disappear under expectation? d. Donâ€™t understand how second line of Equation 11 is arrived at. There are quite a few other sources of mathematically imprecise writing that I noticed. I would recommend the authors to be more robust in their presentation.. The paper proposed a refined AIRL method to deal with the reward ambiguity problem in image captioning, wherein the main idea is to refine the loss function in word level instead in sentence level, and introduce a conditional term in the loss function to mitigate mode collapse problem.\"])"
   ]
  },
  {
   "cell_type": "markdown",
   "id": "4487a9d7",
   "metadata": {},
   "source": [
    "## Logistic Regression Evaluation"
   ]
  },
  {
   "cell_type": "code",
   "execution_count": 62,
   "id": "1207e22b",
   "metadata": {},
   "outputs": [],
   "source": [
    "# Use Logistic Regression creating the model and pipeline\n",
    "tfidf = TfidfVectorizer(tokenizer = textcleaner)\n",
    "lgr = LogisticRegression()\n",
    "\n",
    "lr1 = [('tfidf',tfidf),('clf', lgr)]\n",
    "lrpipe1 = Pipeline(lr1)"
   ]
  },
  {
   "cell_type": "code",
   "execution_count": 63,
   "id": "bb22c374",
   "metadata": {
    "scrolled": true
   },
   "outputs": [
    {
     "name": "stderr",
     "output_type": "stream",
     "text": [
      "C:\\Users\\Soraneat\\anaconda3\\envs\\COMP1832_Lab\\lib\\site-packages\\sklearn\\linear_model\\_logistic.py:814: ConvergenceWarning: lbfgs failed to converge (status=1):\n",
      "STOP: TOTAL NO. of ITERATIONS REACHED LIMIT.\n",
      "\n",
      "Increase the number of iterations (max_iter) or scale the data as shown in:\n",
      "    https://scikit-learn.org/stable/modules/preprocessing.html\n",
      "Please also refer to the documentation for alternative solver options:\n",
      "    https://scikit-learn.org/stable/modules/linear_model.html#logistic-regression\n",
      "  n_iter_i = _check_optimize_result(\n"
     ]
    },
    {
     "data": {
      "text/plain": [
       "Pipeline(steps=[('tfidf',\n",
       "                 TfidfVectorizer(tokenizer=<function textcleaner at 0x000001962C88D700>)),\n",
       "                ('clf', LogisticRegression())])"
      ]
     },
     "execution_count": 63,
     "metadata": {},
     "output_type": "execute_result"
    }
   ],
   "source": [
    "# Training the model\n",
    "lrpipe1.fit(X_train,y_train)"
   ]
  },
  {
   "cell_type": "code",
   "execution_count": 64,
   "id": "1e6cd0e4",
   "metadata": {},
   "outputs": [],
   "source": [
    "# Testing on the test dataset\n",
    "y_pred = lrpipe1.predict(X_test)"
   ]
  },
  {
   "cell_type": "code",
   "execution_count": 65,
   "id": "ada66948",
   "metadata": {},
   "outputs": [
    {
     "name": "stdout",
     "output_type": "stream",
     "text": [
      "Accuracy: 0.33475298126064734\n",
      "Classification Report: \n",
      "              precision    recall  f1-score   support\n",
      "\n",
      "         1.0       0.50      0.04      0.08        90\n",
      "         2.0       0.00      0.00      0.00        15\n",
      "         3.0       0.38      0.56      0.45       289\n",
      "         4.0       0.39      0.09      0.15       122\n",
      "         5.0       0.27      0.05      0.08       132\n",
      "         6.0       0.30      0.67      0.42       290\n",
      "         7.0       0.31      0.10      0.15       114\n",
      "         8.0       0.56      0.05      0.09       106\n",
      "         9.0       0.00      0.00      0.00        16\n",
      "\n",
      "    accuracy                           0.33      1174\n",
      "   macro avg       0.30      0.17      0.16      1174\n",
      "weighted avg       0.36      0.33      0.27      1174\n",
      "\n",
      "Confusion Matrix: \n",
      "[[  4   0  58   1   1  26   0   0   0]\n",
      " [  0   0   7   1   1   5   1   0   0]\n",
      " [  2   0 161   5   2 114   2   3   0]\n",
      " [  0   0  50  11   6  50   5   0   0]\n",
      " [  0   0  28   1   6  91   6   0   0]\n",
      " [  1   0  79   7   1 195   6   1   0]\n",
      " [  1   0  13   1   3  85  11   0   0]\n",
      " [  0   0  26   0   2  69   4   5   0]\n",
      " [  0   0   3   1   0  11   1   0   0]]\n"
     ]
    },
    {
     "name": "stderr",
     "output_type": "stream",
     "text": [
      "C:\\Users\\Soraneat\\anaconda3\\envs\\COMP1832_Lab\\lib\\site-packages\\sklearn\\metrics\\_classification.py:1318: UndefinedMetricWarning: Precision and F-score are ill-defined and being set to 0.0 in labels with no predicted samples. Use `zero_division` parameter to control this behavior.\n",
      "  _warn_prf(average, modifier, msg_start, len(result))\n",
      "C:\\Users\\Soraneat\\anaconda3\\envs\\COMP1832_Lab\\lib\\site-packages\\sklearn\\metrics\\_classification.py:1318: UndefinedMetricWarning: Precision and F-score are ill-defined and being set to 0.0 in labels with no predicted samples. Use `zero_division` parameter to control this behavior.\n",
      "  _warn_prf(average, modifier, msg_start, len(result))\n",
      "C:\\Users\\Soraneat\\anaconda3\\envs\\COMP1832_Lab\\lib\\site-packages\\sklearn\\metrics\\_classification.py:1318: UndefinedMetricWarning: Precision and F-score are ill-defined and being set to 0.0 in labels with no predicted samples. Use `zero_division` parameter to control this behavior.\n",
      "  _warn_prf(average, modifier, msg_start, len(result))\n"
     ]
    },
    {
     "data": {
      "image/png": "[encoded data removed]",
      "text/plain": [
       "<Figure size 432x288 with 2 Axes>"
      ]
     },
     "metadata": {
      "needs_background": "light"
     },
     "output_type": "display_data"
    }
   ],
   "source": [
    "# Printing the metric of accuracy, precision, recall, f1, classification report and the confusion matrix\n",
    "print(\"Accuracy:\",accuracy_score(y_test, y_pred))\n",
    "print(\"Classification Report: \")\n",
    "print(classification_report(y_test,y_pred))\n",
    "print(\"Confusion Matrix: \")\n",
    "print(confusion_matrix(y_test,y_pred))\n",
    "\n",
    "ax = sns.heatmap(confusion_matrix(y_test,y_pred), annot=True, cmap='Blues')\n",
    "ax.set_title('Confusion Matrix\\n\\n');\n",
    "ax.set_xlabel('\\nPredicted Values')\n",
    "ax.set_ylabel('True Values ');\n",
    "\n",
    "## Display the visualization of the Confusion Matrix.\n",
    "plt.show()"
   ]
  },
  {
   "cell_type": "markdown",
   "id": "36b26283",
   "metadata": {},
   "source": [
    "## Logistic Regression Result Test Examples"
   ]
  },
  {
   "cell_type": "code",
   "execution_count": 66,
   "id": "4383cc26",
   "metadata": {},
   "outputs": [
    {
     "data": {
      "text/plain": [
       "array([6.])"
      ]
     },
     "execution_count": 66,
     "metadata": {},
     "output_type": "execute_result"
    }
   ],
   "source": [
    "# Testing some sentences from dataset's text that review score is 10\n",
    "lrpipe1.predict([\"GENERATING HIGH FIDELITY IMAGES WITH SUBSCALE PIXEL NETWORKS AND MULTIDIMENSIONAL UPSCALING. The unconditional generation of high fidelity images is a longstanding benchmark for testing the performance of image decoders. Autoregressive image models have been able to generate small images unconditionally, but the extension of these methods to large images where fidelity can be more readily assessed has remained an open problem. Among the major challenges are the capacity to encode the vast previous context and the sheer difficulty of learning a distribution that preserves both global semantic coherence and exactness of detail. To address the former challenge, we propose the Subscale Pixel Network (SPN), a conditional decoder architecture that generates an image as a sequence of image slices of equal size. The SPN compactly captures image-wide spatial dependencies and requires a fraction of the memory and the computation.\"])"
   ]
  },
  {
   "cell_type": "code",
   "execution_count": 67,
   "id": "309269c4",
   "metadata": {},
   "outputs": [
    {
     "data": {
      "text/plain": [
       "array([6.])"
      ]
     },
     "execution_count": 67,
     "metadata": {},
     "output_type": "execute_result"
    }
   ],
   "source": [
    "# Testing some sentences from dataset's text that review score is 6\n",
    "lrpipe1.predict([\"Espresso: Efficient Forward Propagation for Binary Deep Neural Networks. There are many applications scenarios for which the computational performance and memory footprint of the prediction phase of Deep Neural Networks (DNNs) need to be optimized. Binary Deep Neural Networks (BDNNs) have been shown to be an effective way of achieving this objective. In this paper, we show how Convolutional Neural Networks (CNNs) can be implemented using binary representations. Espresso is a compact, yet powerful library written in C/CUDA that features all the functionalities required for the forward propagation of CNNs, in a binary file less than 400KB, without any external dependencies. Although it is mainly designed to take advantage of massive GPU parallelism, Espresso also provides an equivalent CPU implementation for CNNs. Espresso provides special convolutional and dense layers for BCNNs, leveraging bit-packing and bit-wise computations for efficient execution.\"])"
   ]
  },
  {
   "cell_type": "code",
   "execution_count": 68,
   "id": "9cbae100",
   "metadata": {},
   "outputs": [
    {
     "data": {
      "text/plain": [
       "array([3.])"
      ]
     },
     "execution_count": 68,
     "metadata": {},
     "output_type": "execute_result"
    }
   ],
   "source": [
    "# Testing some sentences from dataset's text that review score is 1\n",
    "lrpipe1.predict([\"Equation 4. How is s_t sampled? 4. Section 4 questions a. 4.1 says discriminator â€œmaximizes the divergenceâ€. This doesnâ€™t seem correct. b. f is referred to as state-value. This doesnâ€™t seem correct. c. Shouldnâ€™t the -1 term in Equation 8 disappear under expectation? d. Donâ€™t understand how second line of Equation 11 is arrived at. There are quite a few other sources of mathematically imprecise writing that I noticed. I would recommend the authors to be more robust in their presentation.. The paper proposed a refined AIRL method to deal with the reward ambiguity problem in image captioning, wherein the main idea is to refine the loss function in word level instead in sentence level, and introduce a conditional term in the loss function to mitigate mode collapse problem.\"])"
   ]
  },
  {
   "cell_type": "markdown",
   "id": "d40c9085",
   "metadata": {},
   "source": [
    "# 4. Multiclass Classification to Implement Review Score (Another Implement Way)"
   ]
  },
  {
   "cell_type": "markdown",
   "id": "292001b6",
   "metadata": {},
   "source": [
    "### The accuracy of the review score is poor since some variables are used less frequently in the dataset, which can effect the prediction. Even though in both methodologies, as seen above, only half of the example outcomes were correct.\n",
    "\n",
    "### There is a wonderful technique to execute it in order to have a better performance at this point. It would be more effective to divide the score numbers from 1 to 10 into two sections rather than use all of them. For example, \"0\" is 1 to 5, and \"1\" is 6 to 10."
   ]
  },
  {
   "cell_type": "markdown",
   "id": "08f13ad9",
   "metadata": {},
   "source": [
    "## Data Cleaning and Preperation"
   ]
  },
  {
   "cell_type": "code",
   "execution_count": 69,
   "id": "fa6fb9a0",
   "metadata": {},
   "outputs": [
    {
     "data": {
      "text/html": [
       "<div>\n",
       "<style scoped>\n",
       "    .dataframe tbody tr th:only-of-type {\n",
       "        vertical-align: middle;\n",
       "    }\n",
       "\n",
       "    .dataframe tbody tr th {\n",
       "        vertical-align: top;\n",
       "    }\n",
       "\n",
       "    .dataframe thead th {\n",
       "        text-align: right;\n",
       "    }\n",
       "</style>\n",
       "<table border=\"1\" class=\"dataframe\">\n",
       "  <thead>\n",
       "    <tr style=\"text-align: right;\">\n",
       "      <th></th>\n",
       "      <th>text</th>\n",
       "      <th>review_score</th>\n",
       "    </tr>\n",
       "  </thead>\n",
       "  <tbody>\n",
       "    <tr>\n",
       "      <th>0</th>\n",
       "      <td>Predicting Medications from Diagnostic Codes w...</td>\n",
       "      <td>6.0</td>\n",
       "    </tr>\n",
       "    <tr>\n",
       "      <th>1</th>\n",
       "      <td>Unrestricted Adversarial Examples via Semantic...</td>\n",
       "      <td>6.0</td>\n",
       "    </tr>\n",
       "    <tr>\n",
       "      <th>2</th>\n",
       "      <td>#. #. #. #</td>\n",
       "      <td>6.0</td>\n",
       "    </tr>\n",
       "    <tr>\n",
       "      <th>3</th>\n",
       "      <td>Sufficient Conditions for Robustness to Advers...</td>\n",
       "      <td>5.0</td>\n",
       "    </tr>\n",
       "    <tr>\n",
       "      <th>4</th>\n",
       "      <td>Unsupervised Learning of the Set of Local Maxi...</td>\n",
       "      <td>8.0</td>\n",
       "    </tr>\n",
       "    <tr>\n",
       "      <th>...</th>\n",
       "      <td>...</td>\n",
       "      <td>...</td>\n",
       "    </tr>\n",
       "    <tr>\n",
       "      <th>6114</th>\n",
       "      <td>PixelNN: Example-based Image Synthesis. We pre...</td>\n",
       "      <td>7.0</td>\n",
       "    </tr>\n",
       "    <tr>\n",
       "      <th>6115</th>\n",
       "      <td>Wasserstein Robust Reinforcement Learning. Rei...</td>\n",
       "      <td>3.0</td>\n",
       "    </tr>\n",
       "    <tr>\n",
       "      <th>6116</th>\n",
       "      <td>Learning to Augment Influential Data. Data aug...</td>\n",
       "      <td>6.0</td>\n",
       "    </tr>\n",
       "    <tr>\n",
       "      <th>6117</th>\n",
       "      <td>The Incredible Shrinking Neural Network: New P...</td>\n",
       "      <td>3.0</td>\n",
       "    </tr>\n",
       "    <tr>\n",
       "      <th>6118</th>\n",
       "      <td>Pre-trained Contextual Embedding of Source Cod...</td>\n",
       "      <td>6.0</td>\n",
       "    </tr>\n",
       "  </tbody>\n",
       "</table>\n",
       "<p>5867 rows × 2 columns</p>\n",
       "</div>"
      ],
      "text/plain": [
       "                                                   text  review_score\n",
       "0     Predicting Medications from Diagnostic Codes w...           6.0\n",
       "1     Unrestricted Adversarial Examples via Semantic...           6.0\n",
       "2                                            #. #. #. #           6.0\n",
       "3     Sufficient Conditions for Robustness to Advers...           5.0\n",
       "4     Unsupervised Learning of the Set of Local Maxi...           8.0\n",
       "...                                                 ...           ...\n",
       "6114  PixelNN: Example-based Image Synthesis. We pre...           7.0\n",
       "6115  Wasserstein Robust Reinforcement Learning. Rei...           3.0\n",
       "6116  Learning to Augment Influential Data. Data aug...           6.0\n",
       "6117  The Incredible Shrinking Neural Network: New P...           3.0\n",
       "6118  Pre-trained Contextual Embedding of Source Cod...           6.0\n",
       "\n",
       "[5867 rows x 2 columns]"
      ]
     },
     "execution_count": 69,
     "metadata": {},
     "output_type": "execute_result"
    }
   ],
   "source": [
    "# As this section is same as the last section, it possible to directly use the above dataset that perfectly prepared\n",
    "# Take the two main features for this stage implementation\n",
    "DT3=DT2[[\"text\", \"review_score\"]]\n",
    "DT3"
   ]
  },
  {
   "cell_type": "code",
   "execution_count": 70,
   "id": "5f6b4ed6",
   "metadata": {},
   "outputs": [
    {
     "data": {
      "text/plain": [
       "text            0\n",
       "review_score    0\n",
       "dtype: int64"
      ]
     },
     "execution_count": 70,
     "metadata": {},
     "output_type": "execute_result"
    }
   ],
   "source": [
    "# Check if there any null value (Missing value)\n",
    "DT3.isnull().sum()"
   ]
  },
  {
   "cell_type": "code",
   "execution_count": 71,
   "id": "ee527a6f",
   "metadata": {},
   "outputs": [
    {
     "data": {
      "text/html": [
       "<div>\n",
       "<style scoped>\n",
       "    .dataframe tbody tr th:only-of-type {\n",
       "        vertical-align: middle;\n",
       "    }\n",
       "\n",
       "    .dataframe tbody tr th {\n",
       "        vertical-align: top;\n",
       "    }\n",
       "\n",
       "    .dataframe thead th {\n",
       "        text-align: right;\n",
       "    }\n",
       "</style>\n",
       "<table border=\"1\" class=\"dataframe\">\n",
       "  <thead>\n",
       "    <tr style=\"text-align: right;\">\n",
       "      <th></th>\n",
       "      <th>text</th>\n",
       "      <th>review_score</th>\n",
       "      <th>score</th>\n",
       "    </tr>\n",
       "  </thead>\n",
       "  <tbody>\n",
       "    <tr>\n",
       "      <th>0</th>\n",
       "      <td>Predicting Medications from Diagnostic Codes w...</td>\n",
       "      <td>6.0</td>\n",
       "      <td>1</td>\n",
       "    </tr>\n",
       "    <tr>\n",
       "      <th>1</th>\n",
       "      <td>Unrestricted Adversarial Examples via Semantic...</td>\n",
       "      <td>6.0</td>\n",
       "      <td>1</td>\n",
       "    </tr>\n",
       "    <tr>\n",
       "      <th>2</th>\n",
       "      <td>#. #. #. #</td>\n",
       "      <td>6.0</td>\n",
       "      <td>1</td>\n",
       "    </tr>\n",
       "    <tr>\n",
       "      <th>3</th>\n",
       "      <td>Sufficient Conditions for Robustness to Advers...</td>\n",
       "      <td>5.0</td>\n",
       "      <td>0</td>\n",
       "    </tr>\n",
       "    <tr>\n",
       "      <th>4</th>\n",
       "      <td>Unsupervised Learning of the Set of Local Maxi...</td>\n",
       "      <td>8.0</td>\n",
       "      <td>1</td>\n",
       "    </tr>\n",
       "  </tbody>\n",
       "</table>\n",
       "</div>"
      ],
      "text/plain": [
       "                                                text  review_score  score\n",
       "0  Predicting Medications from Diagnostic Codes w...           6.0      1\n",
       "1  Unrestricted Adversarial Examples via Semantic...           6.0      1\n",
       "2                                         #. #. #. #           6.0      1\n",
       "3  Sufficient Conditions for Robustness to Advers...           5.0      0\n",
       "4  Unsupervised Learning of the Set of Local Maxi...           8.0      1"
      ]
     },
     "execution_count": 71,
     "metadata": {},
     "output_type": "execute_result"
    }
   ],
   "source": [
    "# Function to divide the value of review_score in to two main parts\n",
    "def mappingfunction(x):\n",
    "    if x < 6:\n",
    "        return 0\n",
    "    return 1\n",
    "\n",
    "# Add the new column \"score\" for divided value\n",
    "DT3[\"score\"] = DT3[\"review_score\"].apply(lambda x: mappingfunction(x))\n",
    "DT3.head(5)"
   ]
  },
  {
   "cell_type": "code",
   "execution_count": 72,
   "id": "1e59b79d",
   "metadata": {},
   "outputs": [
    {
     "name": "stdout",
     "output_type": "stream",
     "text": [
      "                                                   text  review_score  score\n",
      "0     Predicting Medications from Diagnostic Codes w...           6.0      1\n",
      "1     Unrestricted Adversarial Examples via Semantic...           6.0      1\n",
      "2                                            #. #. #. #           6.0      1\n",
      "3     Sufficient Conditions for Robustness to Advers...           5.0      0\n",
      "4     Unsupervised Learning of the Set of Local Maxi...           8.0      1\n",
      "...                                                 ...           ...    ...\n",
      "6114  PixelNN: Example-based Image Synthesis. We pre...           7.0      1\n",
      "6115  Wasserstein Robust Reinforcement Learning. Rei...           3.0      0\n",
      "6116  Learning to Augment Influential Data. Data aug...           6.0      1\n",
      "6117  The Incredible Shrinking Neural Network: New P...           3.0      0\n",
      "6118  Pre-trained Contextual Embedding of Source Cod...           6.0      1\n",
      "\n",
      "[5867 rows x 3 columns]\n"
     ]
    }
   ],
   "source": [
    "# Display this final data that use in the next step\n",
    "print(DT3)"
   ]
  },
  {
   "cell_type": "code",
   "execution_count": 73,
   "id": "1302408d",
   "metadata": {},
   "outputs": [
    {
     "data": {
      "text/plain": [
       "text            0\n",
       "review_score    0\n",
       "score           0\n",
       "dtype: int64"
      ]
     },
     "execution_count": 73,
     "metadata": {},
     "output_type": "execute_result"
    }
   ],
   "source": [
    "# Check if there any null value (Missing value)\n",
    "DT3.isnull().sum()"
   ]
  },
  {
   "cell_type": "markdown",
   "id": "ea5d9993",
   "metadata": {},
   "source": [
    "## Text Preprocessing"
   ]
  },
  {
   "cell_type": "code",
   "execution_count": 74,
   "id": "2975a43d",
   "metadata": {},
   "outputs": [],
   "source": [
    "# Load the english pipeline\n",
    "nlp = en_core_web_sm.load()"
   ]
  },
  {
   "cell_type": "code",
   "execution_count": 75,
   "id": "4d19d6c5",
   "metadata": {},
   "outputs": [
    {
     "name": "stdout",
     "output_type": "stream",
     "text": [
      "['wherein', 'really', 'any', 'among', 'thus', 'becomes', 'cannot', 'all', 'upon', 'been', 'latter', 'below', 'again', 'enough', 'former', 'off', 'nowhere', 'doing', 'hundred', 'see', 'had', 'my', 'may', 'whole', '’m', 'yours', 'never', 'give', 'the', 'except', 'otherwise', 'everything', 'in', 'moreover', 'until', 'under', 'whence', 'must', 'most', 'first', 'none', 'would', 'could', 'four', 'you', 'beyond', 'onto', 'beside', 'seeming', 'his', 'do', 'noone', 'but', 'anyhow', 'are', 'he', 'us', 'such', 'were', 'when', 'herein', 'therefore', 'a', 'not', 'twenty', 'everyone', 'since', 'she', 'often', 'then', '‘ve', 'is', 'nevertheless', 'although', 'became', 'more', 'if', 'nobody', 'made', 'ca', 'at', 'both', 'keep', 'might', 'very', 'what', 'full', 'some', 'much', 'call', 'anyway', 'once', 'get', '‘re', 'throughout', 'together', 'towards', 'sixty', 'empty', 'than', 'something', 'where', 'up', 'these', 'seems', 'amount', 'him', 'seemed', 'please', 'another', 'with', 'hers', 'so', 'still', 'has', 'without', 'few', 'through', 'its', 'behind', 'have', 'be', 'ours', 'did', 'others', 'meanwhile', '’s', 'move', 'while', 'make', 'further', 'now', 'each', \"'ve\", 'and', 'as', 'every', 'toward', 'between', \"'d\", 'i', '‘ll', 'no', 'front', 'neither', 'yourselves', 'was', 'thereafter', 'done', 'put', 'other', 'am', 'say', 'next', 'within', 'before', 'last', 'regarding', 'whenever', 'formerly', 'too', 'eight', 'just', 'even', 'anywhere', 'top', 'itself', 'across', 'herself', 'indeed', 'hence', 'of', 'himself', 'ever', 'nine', 'per', 'this', '’d', 'over', 'six', 'thereby', 'serious', 'yourself', 'besides', 'various', 'everywhere', 'our', 'whoever', 'forty', 'back', 'many', 'three', 'go', 'me', 'namely', 'elsewhere', 'wherever', 'yet', 'nor', 'become', 'latterly', 'becoming', 'whose', 'less', 'mostly', 'take', '’ve', '‘d', 'alone', 'hereafter', 'into', 'out', 'for', 'themselves', 'though', 'bottom', 'should', 'we', 'hereupon', 'same', 'fifty', 'afterwards', 'down', 'after', 'unless', 'whatever', 'almost', 'whether', 'who', 'quite', 'whereafter', 'seem', 'her', 'your', 'myself', 'rather', 'whereas', 'that', 'why', 'well', 'own', 'them', \"'m\", 'how', 'being', 'somewhere', '’re', 'above', 'those', 'by', 'only', 'can', 'thereupon', \"'ll\", 'n‘t', 'else', 'someone', 'ten', 'side', 'hereby', '‘s', 'whom', 'third', 'beforehand', 'it', 'part', \"n't\", 'because', 'around', 'sometimes', 'eleven', 'perhaps', 'five', 'against', 'one', 'either', 'they', '‘m', 'an', 'thru', 'along', 'about', 'fifteen', 'also', 'always', '’ll', 'their', 'mine', 'using', 'already', 'twelve', 'thence', 'will', 'during', 'however', 'anyone', 'nothing', \"'re\", 'therein', 'via', 'due', 'or', 'n’t', 'two', 'whereupon', \"'s\", 'does', 'to', 'show', 'somehow', 'used', 'which', 'least', 'anything', 'name', 'ourselves', 'here', 'from', 'sometime', 'there', 're', 'whereby', 'on', 'several', 'whither', 'amongst']\n"
     ]
    }
   ],
   "source": [
    "# Get and Display all the stopwords\n",
    "stopwords = list(STOP_WORDS)\n",
    "print(stopwords)"
   ]
  },
  {
   "cell_type": "code",
   "execution_count": 76,
   "id": "1d2b9913",
   "metadata": {},
   "outputs": [
    {
     "name": "stdout",
     "output_type": "stream",
     "text": [
      "!\"#$%&'()*+,-./:;<=>?@[\\]^_`{|}~\n"
     ]
    }
   ],
   "source": [
    "# Get and Display the punctuation\n",
    "punct = string.punctuation\n",
    "print(punct)"
   ]
  },
  {
   "cell_type": "code",
   "execution_count": 77,
   "id": "2215c554",
   "metadata": {},
   "outputs": [],
   "source": [
    "# Function for the text cleaning\n",
    "def textcleaner(phrase):\n",
    "  t = nlp(phrase)\n",
    "  tokens = []\n",
    "  for token in t:\n",
    "    if token.lemma_ != '-PRON-':\n",
    "      temp = token.lemma_.lower().strip()\n",
    "    else:\n",
    "      temp = token.lower_\n",
    "    tokens.append(temp)\n",
    "  clean_text = []\n",
    "  for token in tokens:\n",
    "    if token not in punct and token not in stopwords:\n",
    "      clean_text.append(token)\n",
    "  return clean_text"
   ]
  },
  {
   "cell_type": "code",
   "execution_count": 78,
   "id": "5bcceedf",
   "metadata": {},
   "outputs": [
    {
     "data": {
      "text/plain": [
       "['test', 'text_cleaner']"
      ]
     },
     "execution_count": 78,
     "metadata": {},
     "output_type": "execute_result"
    }
   ],
   "source": [
    "# Test example for the textcleaner function\n",
    "textcleaner(\"This the another test for the text_cleaner again.\")"
   ]
  },
  {
   "cell_type": "markdown",
   "id": "9cae1b00",
   "metadata": {},
   "source": [
    "## Split Data"
   ]
  },
  {
   "cell_type": "code",
   "execution_count": 79,
   "id": "ccae1365",
   "metadata": {},
   "outputs": [
    {
     "name": "stdout",
     "output_type": "stream",
     "text": [
      "X_train shape:  (4693,)\n",
      "X_test shape:  (1174,)\n",
      "Y_train shape:  (4693,)\n",
      "Y_test shape:  (1174,)\n"
     ]
    }
   ],
   "source": [
    "# Spillting the train and test data\n",
    "X = DT3['text']\n",
    "y = DT3['score']\n",
    "\n",
    "X_train, X_test, y_train, y_test = train_test_split(X, y, test_size = 0.2)\n",
    "\n",
    "# Display the shape of each train and test data\n",
    "print(\"X_train shape: \",X_train.shape)\n",
    "print(\"X_test shape: \",X_test.shape)\n",
    "print(\"Y_train shape: \",y_train.shape)\n",
    "print(\"Y_test shape: \",y_test.shape)"
   ]
  },
  {
   "cell_type": "markdown",
   "id": "fa3ff621",
   "metadata": {},
   "source": [
    "## LinearSVC Evaluation"
   ]
  },
  {
   "cell_type": "code",
   "execution_count": 80,
   "id": "b3cb1976",
   "metadata": {},
   "outputs": [],
   "source": [
    "# Use Linear SVC creating the model and pipeline\n",
    "tfidf = TfidfVectorizer(tokenizer = textcleaner)\n",
    "svm = LinearSVC()\n",
    "\n",
    "svc2 = [('tfidf',tfidf),('svm',svm)]\n",
    "svcpipe2 = Pipeline(svc2)"
   ]
  },
  {
   "cell_type": "code",
   "execution_count": 81,
   "id": "9167d126",
   "metadata": {},
   "outputs": [
    {
     "data": {
      "text/plain": [
       "Pipeline(steps=[('tfidf',\n",
       "                 TfidfVectorizer(tokenizer=<function textcleaner at 0x000001963681CCA0>)),\n",
       "                ('svm', LinearSVC())])"
      ]
     },
     "execution_count": 81,
     "metadata": {},
     "output_type": "execute_result"
    }
   ],
   "source": [
    "# Training the model\n",
    "svcpipe2.fit(X_train,y_train)"
   ]
  },
  {
   "cell_type": "code",
   "execution_count": 82,
   "id": "0dffa64f",
   "metadata": {},
   "outputs": [],
   "source": [
    "# Testing on the test dataset\n",
    "y_pred = svcpipe2.predict(X_test)"
   ]
  },
  {
   "cell_type": "code",
   "execution_count": 83,
   "id": "3ae8ec75",
   "metadata": {},
   "outputs": [
    {
     "name": "stdout",
     "output_type": "stream",
     "text": [
      "Accuracy: 0.7257240204429302\n",
      "Classification Report: \n",
      "              precision    recall  f1-score   support\n",
      "\n",
      "           0       0.73      0.77      0.75       618\n",
      "           1       0.73      0.68      0.70       556\n",
      "\n",
      "    accuracy                           0.73      1174\n",
      "   macro avg       0.73      0.72      0.72      1174\n",
      "weighted avg       0.73      0.73      0.72      1174\n",
      "\n",
      "Confusion Matrix: \n",
      "[[476 142]\n",
      " [180 376]]\n"
     ]
    },
    {
     "data": {
      "image/png": "[encoded data removed]",
      "text/plain": [
       "<Figure size 432x288 with 2 Axes>"
      ]
     },
     "metadata": {
      "needs_background": "light"
     },
     "output_type": "display_data"
    }
   ],
   "source": [
    "# Printing the metric of accuracy, precision, recall, f1, classification report and the confusion matrix\n",
    "print(\"Accuracy:\",accuracy_score(y_test, y_pred))\n",
    "print(\"Classification Report: \")\n",
    "print(classification_report(y_test,y_pred))\n",
    "print(\"Confusion Matrix: \")\n",
    "print(confusion_matrix(y_test,y_pred))\n",
    "\n",
    "ax = sns.heatmap(confusion_matrix(y_test,y_pred), annot=True, cmap='Blues')\n",
    "ax.set_title('Confusion Matrix\\n\\n');\n",
    "ax.set_xlabel('\\nPredicted Values')\n",
    "ax.set_ylabel('True Values ');\n",
    "\n",
    "## Display the visualization of the Confusion Matrix.\n",
    "plt.show()"
   ]
  },
  {
   "cell_type": "markdown",
   "id": "f2a55186",
   "metadata": {},
   "source": [
    "## LinearSVC Result Test Examples"
   ]
  },
  {
   "cell_type": "code",
   "execution_count": 84,
   "id": "5f9e1b0c",
   "metadata": {},
   "outputs": [
    {
     "data": {
      "text/plain": [
       "array([1], dtype=int64)"
      ]
     },
     "execution_count": 84,
     "metadata": {},
     "output_type": "execute_result"
    }
   ],
   "source": [
    "# Testing some sentences from dataset's text that review score is 10\n",
    "svcpipe2.predict([\"GENERATING HIGH FIDELITY IMAGES WITH SUBSCALE PIXEL NETWORKS AND MULTIDIMENSIONAL UPSCALING. The unconditional generation of high fidelity images is a longstanding benchmark for testing the performance of image decoders. Autoregressive image models have been able to generate small images unconditionally, but the extension of these methods to large images where fidelity can be more readily assessed has remained an open problem. Among the major challenges are the capacity to encode the vast previous context and the sheer difficulty of learning a distribution that preserves both global semantic coherence and exactness of detail. To address the former challenge, we propose the Subscale Pixel Network (SPN), a conditional decoder architecture that generates an image as a sequence of image slices of equal size. The SPN compactly captures image-wide spatial dependencies and requires a fraction of the memory and the computation.\"])"
   ]
  },
  {
   "cell_type": "code",
   "execution_count": 85,
   "id": "6cdd8232",
   "metadata": {},
   "outputs": [
    {
     "data": {
      "text/plain": [
       "array([1], dtype=int64)"
      ]
     },
     "execution_count": 85,
     "metadata": {},
     "output_type": "execute_result"
    }
   ],
   "source": [
    "# Testing some sentences from dataset's text that review score is 6\n",
    "svcpipe2.predict([\"Espresso: Efficient Forward Propagation for Binary Deep Neural Networks. There are many applications scenarios for which the computational performance and memory footprint of the prediction phase of Deep Neural Networks (DNNs) need to be optimized. Binary Deep Neural Networks (BDNNs) have been shown to be an effective way of achieving this objective. In this paper, we show how Convolutional Neural Networks (CNNs) can be implemented using binary representations. Espresso is a compact, yet powerful library written in C/CUDA that features all the functionalities required for the forward propagation of CNNs, in a binary file less than 400KB, without any external dependencies. Although it is mainly designed to take advantage of massive GPU parallelism, Espresso also provides an equivalent CPU implementation for CNNs. Espresso provides special convolutional and dense layers for BCNNs, leveraging bit-packing and bit-wise computations for efficient execution.\"])"
   ]
  },
  {
   "cell_type": "code",
   "execution_count": 86,
   "id": "f1063ff1",
   "metadata": {},
   "outputs": [
    {
     "data": {
      "text/plain": [
       "array([0], dtype=int64)"
      ]
     },
     "execution_count": 86,
     "metadata": {},
     "output_type": "execute_result"
    }
   ],
   "source": [
    "# Testing some sentences from dataset's text that review score is 1\n",
    "svcpipe2.predict([\"Equation 4. How is s_t sampled? 4. Section 4 questions a. 4.1 says discriminator â€œmaximizes the divergenceâ€. This doesnâ€™t seem correct. b. f is referred to as state-value. This doesnâ€™t seem correct. c. Shouldnâ€™t the -1 term in Equation 8 disappear under expectation? d. Donâ€™t understand how second line of Equation 11 is arrived at. There are quite a few other sources of mathematically imprecise writing that I noticed. I would recommend the authors to be more robust in their presentation.. The paper proposed a refined AIRL method to deal with the reward ambiguity problem in image captioning, wherein the main idea is to refine the loss function in word level instead in sentence level, and introduce a conditional term in the loss function to mitigate mode collapse problem.\"])"
   ]
  },
  {
   "cell_type": "markdown",
   "id": "b09a8b65",
   "metadata": {},
   "source": [
    "## LogisticReression Evaluation"
   ]
  },
  {
   "cell_type": "code",
   "execution_count": 87,
   "id": "93f47b1a",
   "metadata": {},
   "outputs": [],
   "source": [
    "# Use Logistic Reression creating the model and pipeline\n",
    "tfidf = TfidfVectorizer(tokenizer = textcleaner)\n",
    "lgr = LogisticRegression()\n",
    "\n",
    "lr2 = [('tfidf',tfidf),('clf', lgr)]\n",
    "lrpipe2 = Pipeline(lr2)"
   ]
  },
  {
   "cell_type": "code",
   "execution_count": 88,
   "id": "55142f81",
   "metadata": {},
   "outputs": [
    {
     "data": {
      "text/plain": [
       "Pipeline(steps=[('tfidf',\n",
       "                 TfidfVectorizer(tokenizer=<function textcleaner at 0x000001963681CCA0>)),\n",
       "                ('clf', LogisticRegression())])"
      ]
     },
     "execution_count": 88,
     "metadata": {},
     "output_type": "execute_result"
    }
   ],
   "source": [
    "# Training the model\n",
    "lrpipe2.fit(X_train,y_train)"
   ]
  },
  {
   "cell_type": "code",
   "execution_count": 89,
   "id": "ba4337c2",
   "metadata": {},
   "outputs": [],
   "source": [
    "# Testing on the test dataset\n",
    "y_pred = lrpipe2.predict(X_test)"
   ]
  },
  {
   "cell_type": "code",
   "execution_count": 90,
   "id": "9dcdf5bd",
   "metadata": {},
   "outputs": [
    {
     "name": "stdout",
     "output_type": "stream",
     "text": [
      "Accuracy: 0.7086882453151618\n",
      "Classification Report: \n",
      "              precision    recall  f1-score   support\n",
      "\n",
      "           0       0.69      0.81      0.75       618\n",
      "           1       0.74      0.60      0.66       556\n",
      "\n",
      "    accuracy                           0.71      1174\n",
      "   macro avg       0.71      0.70      0.70      1174\n",
      "weighted avg       0.71      0.71      0.70      1174\n",
      "\n",
      "Confusion Matrix: \n",
      "[[501 117]\n",
      " [225 331]]\n"
     ]
    },
    {
     "data": {
      "image/png": "[encoded data removed]",
      "text/plain": [
       "<Figure size 432x288 with 2 Axes>"
      ]
     },
     "metadata": {
      "needs_background": "light"
     },
     "output_type": "display_data"
    }
   ],
   "source": [
    "# Printing the metric of accuracy, precision, recall, f1, classification report and the confusion matrix\n",
    "print(\"Accuracy:\",accuracy_score(y_test, y_pred))\n",
    "print(\"Classification Report: \")\n",
    "print(classification_report(y_test,y_pred))\n",
    "print(\"Confusion Matrix: \")\n",
    "print(confusion_matrix(y_test,y_pred))\n",
    "\n",
    "ax = sns.heatmap(confusion_matrix(y_test,y_pred), annot=True, cmap='Blues')\n",
    "ax.set_title('Confusion Matrix\\n\\n');\n",
    "ax.set_xlabel('\\nPredicted Values')\n",
    "ax.set_ylabel('True Values ');\n",
    "\n",
    "## Display the visualization of the Confusion Matrix.\n",
    "plt.show()"
   ]
  },
  {
   "cell_type": "markdown",
   "id": "27039241",
   "metadata": {},
   "source": [
    "## LogisticReression Result Test Examples"
   ]
  },
  {
   "cell_type": "code",
   "execution_count": 91,
   "id": "ad339be3",
   "metadata": {},
   "outputs": [
    {
     "data": {
      "text/plain": [
       "array([1], dtype=int64)"
      ]
     },
     "execution_count": 91,
     "metadata": {},
     "output_type": "execute_result"
    }
   ],
   "source": [
    "# Testing some sentences from dataset's text that review score is 10\n",
    "lrpipe2.predict([\"GENERATING HIGH FIDELITY IMAGES WITH SUBSCALE PIXEL NETWORKS AND MULTIDIMENSIONAL UPSCALING. The unconditional generation of high fidelity images is a longstanding benchmark for testing the performance of image decoders. Autoregressive image models have been able to generate small images unconditionally, but the extension of these methods to large images where fidelity can be more readily assessed has remained an open problem. Among the major challenges are the capacity to encode the vast previous context and the sheer difficulty of learning a distribution that preserves both global semantic coherence and exactness of detail. To address the former challenge, we propose the Subscale Pixel Network (SPN), a conditional decoder architecture that generates an image as a sequence of image slices of equal size. The SPN compactly captures image-wide spatial dependencies and requires a fraction of the memory and the computation.\"])"
   ]
  },
  {
   "cell_type": "code",
   "execution_count": 92,
   "id": "d66d9d4f",
   "metadata": {},
   "outputs": [
    {
     "data": {
      "text/plain": [
       "array([1], dtype=int64)"
      ]
     },
     "execution_count": 92,
     "metadata": {},
     "output_type": "execute_result"
    }
   ],
   "source": [
    "# Testing some sentences from dataset's text that review score is 6\n",
    "lrpipe2.predict([\"Espresso: Efficient Forward Propagation for Binary Deep Neural Networks. There are many applications scenarios for which the computational performance and memory footprint of the prediction phase of Deep Neural Networks (DNNs) need to be optimized. Binary Deep Neural Networks (BDNNs) have been shown to be an effective way of achieving this objective. In this paper, we show how Convolutional Neural Networks (CNNs) can be implemented using binary representations. Espresso is a compact, yet powerful library written in C/CUDA that features all the functionalities required for the forward propagation of CNNs, in a binary file less than 400KB, without any external dependencies. Although it is mainly designed to take advantage of massive GPU parallelism, Espresso also provides an equivalent CPU implementation for CNNs. Espresso provides special convolutional and dense layers for BCNNs, leveraging bit-packing and bit-wise computations for efficient execution.\"])"
   ]
  },
  {
   "cell_type": "code",
   "execution_count": 93,
   "id": "9c9497f2",
   "metadata": {},
   "outputs": [
    {
     "data": {
      "text/plain": [
       "array([0], dtype=int64)"
      ]
     },
     "execution_count": 93,
     "metadata": {},
     "output_type": "execute_result"
    }
   ],
   "source": [
    "# Testing some sentences from dataset's text that review score is 1\n",
    "lrpipe2.predict([\"Equation 4. How is s_t sampled? 4. Section 4 questions a. 4.1 says discriminator â€œmaximizes the divergenceâ€. This doesnâ€™t seem correct. b. f is referred to as state-value. This doesnâ€™t seem correct. c. Shouldnâ€™t the -1 term in Equation 8 disappear under expectation? d. Donâ€™t understand how second line of Equation 11 is arrived at. There are quite a few other sources of mathematically imprecise writing that I noticed. I would recommend the authors to be more robust in their presentation.. The paper proposed a refined AIRL method to deal with the reward ambiguity problem in image captioning, wherein the main idea is to refine the loss function in word level instead in sentence level, and introduce a conditional term in the loss function to mitigate mode collapse problem.\"])"
   ]
  },
  {
   "cell_type": "markdown",
   "id": "65ec0a63",
   "metadata": {},
   "source": [
    "## Plot For the Comparison Between 2 Models"
   ]
  },
  {
   "cell_type": "code",
   "execution_count": 94,
   "id": "81bc7b5b",
   "metadata": {},
   "outputs": [
    {
     "name": "stdout",
     "output_type": "stream",
     "text": [
      "               Metrics     1     2     3     4\n",
      "0           Linear SVC  0.78  0.78  0.79  0.78\n",
      "1  Logistic Regression  0.72  0.74  0.72  0.68\n"
     ]
    },
    {
     "data": {
      "image/png": "[encoded data removed]",
      "text/plain": [
       "<Figure size 432x288 with 1 Axes>"
      ]
     },
     "metadata": {
      "needs_background": "light"
     },
     "output_type": "display_data"
    }
   ],
   "source": [
    "# Attribute of prediction acceptance status\n",
    "# Create a dataframe of metric value in the 2 models, set as DF1\n",
    "DF1= pd.DataFrame([['Linear SVC', 0.78, 0.78, 0.79, 0.78],\n",
    "                   ['Logistic Regression', 0.72, 0.74, 0.72, 0.68]],\n",
    "                  columns=['Metrics', 1, 2, 3, 4]) # 1 is Accuracy, 2 is Precision, 3 is Recall, and 4 is F1\n",
    "# Print DF\n",
    "print(DF1)\n",
    "\n",
    "# Use parallel_coordinate, with different color for each model\n",
    "pd.plotting.parallel_coordinates(DF1, 'Metrics', color=('#FF0000', '#0000FF'))\n",
    "\n",
    "# Display and save the plot as picture\n",
    "plt.savefig(\"attribute1_plot.jpg\")\n",
    "plt.show()"
   ]
  },
  {
   "cell_type": "code",
   "execution_count": 95,
   "id": "c4f694c3",
   "metadata": {},
   "outputs": [
    {
     "name": "stdout",
     "output_type": "stream",
     "text": [
      "               Metrics     1     2     3     4\n",
      "0           Linear SVC  0.72  0.73  0.73  0.72\n",
      "1  Logistic Regression  0.70  0.71  0.71  0.70\n"
     ]
    },
    {
     "data": {
      "image/png": "[encoded data removed]",
      "text/plain": [
       "<Figure size 432x288 with 1 Axes>"
      ]
     },
     "metadata": {
      "needs_background": "light"
     },
     "output_type": "display_data"
    }
   ],
   "source": [
    "# Attribute of prediction review score\n",
    "# Create a dataframe of metric value in the 2 models, set as DF2\n",
    "DF2= pd.DataFrame([['Linear SVC', 0.72, 0.73, 0.73, 0.72],\n",
    "                   ['Logistic Regression', 0.70, 0.71, 0.71, 0.70]],\n",
    "                  columns=['Metrics', 1, 2, 3, 4]) # 1 is Accuracy, 2 is Precision, 3 is Recall, and 4 is F1\n",
    "# Print DF\n",
    "print(DF2)\n",
    "\n",
    "# Use parallel_coordinate, with different color for each model\n",
    "pd.plotting.parallel_coordinates(DF2, 'Metrics', color=('#FF0000', '#0000FF'))\n",
    "\n",
    "# Display and save the plot as picture\n",
    "plt.savefig(\"attribute2_plot.jpg\")\n",
    "plt.show()"
   ]
  },
  {
   "cell_type": "code",
   "execution_count": null,
   "id": "7c033388",
   "metadata": {},
   "outputs": [],
   "source": []
  }
 ],
 "metadata": {
  "kernelspec": {
   "display_name": "Python 3 (ipykernel)",
   "language": "python",
   "name": "python3"
  },
  "language_info": {
   "codemirror_mode": {
    "name": "ipython",
    "version": 3
   },
   "file_extension": ".py",
   "mimetype": "text/x-python",
   "name": "python",
   "nbconvert_exporter": "python",
   "pygments_lexer": "ipython3",
   "version": "3.8.11"
  }
 },
 "nbformat": 4,
 "nbformat_minor": 5
}
